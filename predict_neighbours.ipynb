{
 "cells": [
  {
   "metadata": {},
   "cell_type": "markdown",
   "source": "# Setup"
  },
  {
   "metadata": {
    "ExecuteTime": {
     "end_time": "2025-01-25T16:50:21.299611Z",
     "start_time": "2025-01-25T16:50:21.285609Z"
    }
   },
   "cell_type": "code",
   "source": [
    "import os\n",
    "\n",
    "import random\n",
    "from matplotlib import pyplot as plt\n",
    "from torch.utils.data import Dataset\n",
    "from torch_geometric.loader import DataLoader\n",
    "from graph_loader import load_graphs\n",
    "\n",
    "from part import Part\n",
    "from typing import Set\n",
    "\n",
    "import torch.optim as optim\n",
    "\n",
    "import torch\n",
    "import torch.nn as nn\n",
    "from graph import Graph"
   ],
   "outputs": [],
   "execution_count": 13
  },
  {
   "cell_type": "code",
   "metadata": {
    "ExecuteTime": {
     "end_time": "2025-01-25T16:50:23.107064Z",
     "start_time": "2025-01-25T16:50:23.093064Z"
    }
   },
   "source": [
    "# MPS for Metal acceleration for Mac\n",
    "# device = torch.device(\"cuda\" if torch.cuda.is_available() else \"mps\" if torch.has_mps else \"cpu\")\n",
    "device = torch.device(\"cuda\" if torch.cuda.is_available() else \"mps\" if torch.backends.mps.is_built() else \"cpu\")\n",
    "# device = torch.device(\"cpu\")\n",
    "SEED = 2\n",
    "random.seed(SEED)\n",
    "# setgrad = lambda g, *ms: [setattr(p,'requires_grad', g) for m in ms for p in m.parameters() ]  \n",
    "\n",
    "print(device)"
   ],
   "outputs": [
    {
     "name": "stdout",
     "output_type": "stream",
     "text": [
      "cpu\n"
     ]
    }
   ],
   "execution_count": 14
  },
  {
   "metadata": {},
   "cell_type": "markdown",
   "source": "# 1. GraphDataSet"
  },
  {
   "cell_type": "code",
   "metadata": {
    "ExecuteTime": {
     "end_time": "2025-01-25T16:50:28.063805Z",
     "start_time": "2025-01-25T16:50:28.041801Z"
    }
   },
   "source": [
    "from sklearn.model_selection import train_test_split\n",
    "\n",
    "\n",
    "class GraphDataset(Dataset):\n",
    "    def __init__(self, file_path: str, train=False, validation=False, test=False, seed=42):\n",
    "        if not os.path.exists(file_path):\n",
    "            raise FileNotFoundError(f\"Dataset file not found at {file_path}\")\n",
    "\n",
    "        self.graphs = load_graphs(file_path)\n",
    "\n",
    "        if sum([train, validation, test]) != 1:\n",
    "            raise ValueError(\"Exactly one of 'train', 'validation', or 'test' must be True.\")\n",
    "\n",
    "\n",
    "        # Create global mapping for unique parts\n",
    "        self.family_part_dict = {}\n",
    "\n",
    "\n",
    "        unique_parts = set()\n",
    "        for graph in self.graphs:\n",
    "            parts = graph.get_parts()\n",
    "            for part in parts:\n",
    "                unique_parts.add(int(part.get_part_id()))\n",
    "                self.family_part_dict[int(part.get_part_id())] = int(part.get_family_id())\n",
    "\n",
    "        # unique parts and mapping across all graphs (not just within a certain split)\n",
    "        unique_parts = sorted(list(unique_parts))\n",
    "        self.total_global_part_to_idx = {part: idx for idx, part in enumerate(unique_parts)} # mapping part_id to index\n",
    "        self.idx_to_part_id = {idx: part for part, idx in self.total_global_part_to_idx.items()}  # Reverse mapping\n",
    "\n",
    "        self.total_num_unique_parts = max(unique_parts)+1\n",
    "        # self.total_num_unique_parts = len(unique_parts)\n",
    "\n",
    "        # Split: 70% training, 15% validation, 15% test\n",
    "        train_graphs, test_graphs = train_test_split(self.graphs, test_size=0.3, random_state=seed)\n",
    "        validation_graphs, test_graphs = train_test_split(test_graphs, test_size=0.5, random_state=seed)\n",
    "\n",
    "        # Create Train and Test Split:\n",
    "        if train:\n",
    "            self.graphs = train_graphs\n",
    "        elif validation:\n",
    "            self.graphs = validation_graphs\n",
    "        elif test:\n",
    "            self.graphs = test_graphs\n",
    "\n",
    "    def __len__(self):\n",
    "        return len(self.graphs)\n",
    "\n",
    "    def __getitem__(self, idx):\n",
    "        '''\n",
    "        Returns the parts and the corresponding graph at the given index.\n",
    "        '''\n",
    "        return self.graphs[idx].get_parts(), self.graphs[idx]\n",
    "\n",
    "    def encode_features(self, parts):\n",
    "        \"\"\"\n",
    "            1. Sortieren alle parts in graphen nach partID\n",
    "            2. Erstellen Frequency Encoding für part\n",
    "            3. Erstellen one Hot Encoding für parts\n",
    "            4. Combines Encodings in einen gestackten vektor\n",
    "        \"\"\"\n",
    "\n",
    "        # sort parts by part_id and convert to list\n",
    "        parts = sorted(parts, key=lambda part: int(part.get_part_id()))\n",
    "        parts = list(parts)\n",
    "        \n",
    "        combined_tensors = []\n",
    "        # frequency encoding\n",
    "        part_frequency_tensor = self.frequency_encoding(parts)              # Für alle Parts einmal pro Graph\n",
    "        for part in parts:\n",
    "            # one hot encoding\n",
    "            one_hot_encoded = self.one_hot_encoding(part)                   # Pro part meheree male pro Graph\n",
    "            combined_tensor = torch.cat((part_frequency_tensor, one_hot_encoded), dim=0)\n",
    "            combined_tensors.append(combined_tensor)\n",
    "        # transform list of tensors to tensor\n",
    "        combined_tensors = torch.stack(combined_tensors)\n",
    "        return combined_tensors\n",
    "\n",
    "    # TODO Werte checken - wird passen\n",
    "    def frequency_encoding(self, parts):\n",
    "        \"\"\" \n",
    "        Frequency encoding of parts in a graph including the mapping to the global part index.\n",
    "        \"\"\"\n",
    "        part_frequency_tensor = np.zeros(self.total_num_unique_parts, dtype=np.int32)\n",
    "        for part in parts:\n",
    "            part_id = int(part.get_part_id())\n",
    "            part_frequency_tensor[part_id] += 1\n",
    "\n",
    "            # mapped_id = self.total_global_part_to_idx[part_id]\n",
    "            # part_frequency_tensor[mapped_id] += 1\n",
    "        # cast to tensor\n",
    "        part_frequency_tensor = torch.tensor(part_frequency_tensor, dtype=torch.float32)\n",
    "        return part_frequency_tensor\n",
    "\n",
    "    # TODO Werte checken - wird passen\n",
    "    def one_hot_encoding(self, part):\n",
    "        \"\"\"\n",
    "        One-hot encoding of part including the mapping to the global part index.\n",
    "        \"\"\"\n",
    "        one_hot_encoded = np.zeros(self.total_num_unique_parts, dtype=np.int32)\n",
    "        part_id = int(part.get_part_id())\n",
    "        one_hot_encoded[part_id] = 1\n",
    "        # mapped_id = self.total_global_part_to_idx[part_id]\n",
    "        # one_hot_encoded[mapped_id] = 1\n",
    "        # cast to tensor\n",
    "        one_hot_encoded = torch.tensor(one_hot_encoded, dtype=torch.float32)\n",
    "        return one_hot_encoded\n",
    "\n",
    "    \n",
    "    def graph_to_neighbour_matrix(self, graph):\n",
    "        \"\"\"\n",
    "        This will not create the adjacency matrix, but rather for each node a tensor with the neighbours. \n",
    "        These tensors are then stacked to create the neighbour matrix.\n",
    "\n",
    "\n",
    "\n",
    "\n",
    "        Erstellt für Graphn die gesamte Adjazenzmatrix: oben / x: Source, links / y: target\n",
    "\n",
    "        Genauso viele Spalten wie Parts in graphen (e.g. für gleiche PartIDs mehere Spalten) und insg. Reihen pro spalte für 2000 parts\n",
    "\n",
    "            58, 58, 58, 58 1621 source\n",
    "            1   2   3   4  5\n",
    "        1\n",
    "        2\n",
    "        3               One-hot encoded\n",
    "        ...\n",
    "        target\n",
    "\n",
    "\n",
    "        \"\"\"\n",
    "        neighbours = graph.get_edges()\n",
    "        # sort nodes by part_id -> because our features were also sorted according to part_id\n",
    "        nodes = sorted(graph.get_nodes(), key=lambda node: int(node.get_part().get_part_id()))\n",
    "\n",
    "        neighbour_matrix = []\n",
    "\n",
    "        for node in nodes:\n",
    "            \n",
    "            neighbour_tensor = torch.zeros(self.total_num_unique_parts, dtype=torch.float32)\n",
    "            # find the neighbours of each node\n",
    "            for current_neighbour in neighbours[node]:\n",
    "                neighbour_id = int(current_neighbour.get_part().get_part_id())\n",
    "                neighbour_tensor[neighbour_id] = 1\n",
    "                # mapped_id = self.total_global_part_to_idx[neighbour_id]\n",
    "                # neighbour_tensor[mapped_id] = 1\n",
    "\n",
    "            neighbour_matrix.append(neighbour_tensor)\n",
    "        \n",
    "        # transform list of tensors to tensor\n",
    "        neighbour_matrix = torch.stack(neighbour_matrix)\n",
    "        return neighbour_matrix\n"
   ],
   "outputs": [],
   "execution_count": 15
  },
  {
   "metadata": {},
   "cell_type": "markdown",
   "source": "# 2. PartDataSet"
  },
  {
   "cell_type": "code",
   "metadata": {
    "ExecuteTime": {
     "end_time": "2025-01-25T16:50:31.362201Z",
     "start_time": "2025-01-25T16:50:31.339203Z"
    }
   },
   "source": [
    "class PartDataset(Dataset):\n",
    "    def __init__(self, graph_dataset):\n",
    "        \"\"\"\n",
    "        Initialisiert das PartDataset basierend auf dem bestehenden GraphDataset.\n",
    "        Erstellt ein Datenset, welches jeweils als feature die Kombination aus Frequency Encoding und One-Hot Encoding enthält und als label die Nachbarn jedes Knotens.\n",
    "        :param graph_dataset: Instanz von GraphDataset.\n",
    "        \"\"\"\n",
    "        self.features = []\n",
    "        self.labels = []\n",
    "\n",
    "        \"\"\"\n",
    "            Wir holen uns parts aus graphen, wir sortieren die PartIDs\n",
    "            Erzeugen wir frequency (für graphen) und one hot (für einzelne Parts) vektoren\n",
    "        \"\"\"\n",
    "\n",
    "        for parts, graph in graph_dataset:\n",
    "\n",
    "            # Feature 1: Frequency encoded graph using part_ids\n",
    "            part_ids_graph = graph.get_parts()\n",
    "            part_ids_graph = [int(part.get_part_id()) for part in part_ids_graph]\n",
    "            feature_graph = torch.zeros(graph_dataset.total_num_unique_parts, dtype=torch.float)\n",
    "            for part_id in part_ids_graph:\n",
    "                feature_graph[part_id] += 1\n",
    "\n",
    "            # Feature 2: One Hot encoding per Part + neighboring matrix kombiniert aufgebaut\n",
    "            edges = graph.get_edges()\n",
    "            for source_node, target_nodes in edges.items():\n",
    "                source_id = int(source_node.get_part().get_part_id())\n",
    "\n",
    "                # One-hot encode the source_id with pytorch tensors\n",
    "                feature_source_id = torch.zeros(graph_dataset.total_num_unique_parts, dtype=torch.float)\n",
    "                feature_source_id[source_id] = 1\n",
    "\n",
    "                target = torch.zeros(graph_dataset.total_num_unique_parts, dtype=torch.float)\n",
    "                for target_node in target_nodes:\n",
    "                    target_id = int(target_node.get_part().get_part_id())\n",
    "                    target[target_id] = 1\n",
    "\n",
    "                self.labels.append(target)\n",
    "                self.features.append(torch.cat([feature_graph, feature_source_id]))\n",
    "\n",
    "    def __len__(self):\n",
    "        return len(self.features)\n",
    "\n",
    "    def __getitem__(self, idx):\n",
    "        \"\"\"\n",
    "        Gibt die Features und das Label für den angegebenen Index zurück.\n",
    "        \"\"\"\n",
    "        return self.features[idx], self.labels[idx]\n"
   ],
   "outputs": [],
   "execution_count": 16
  },
  {
   "metadata": {},
   "cell_type": "markdown",
   "source": "# 3. Setup DataSets"
  },
  {
   "cell_type": "code",
   "metadata": {
    "ExecuteTime": {
     "end_time": "2025-01-25T16:50:36.221574Z",
     "start_time": "2025-01-25T16:50:33.161053Z"
    }
   },
   "source": [
    "training_set = GraphDataset(\"data/graphs.dat\", train = True, seed=SEED)\n",
    "validation_set = GraphDataset(\"data/graphs.dat\", validation = True, seed=SEED)\n",
    "testing_set = GraphDataset(\"data/graphs.dat\", test = True, seed=SEED)"
   ],
   "outputs": [],
   "execution_count": 17
  },
  {
   "metadata": {
    "ExecuteTime": {
     "end_time": "2025-01-25T16:50:41.488989Z",
     "start_time": "2025-01-25T16:50:38.295047Z"
    }
   },
   "cell_type": "code",
   "source": [
    "# Erstelle ein PartDataset aus deinem GraphDataset\n",
    "train_part_dataset = PartDataset(training_set)      # --> Länge 59275 alle parts in allen Graphen (Alle graph - PArtID combis)\n",
    "val_part_dataset = PartDataset(validation_set)\n",
    "\n",
    "training_set.graphs[0].draw()\n",
    "example_column = 0      # Max 59275\n",
    "\n",
    "print(\"Features: ---------------------\")\n",
    "print(len(train_part_dataset.features[0]))\n",
    "for i, part in enumerate(train_part_dataset.features[example_column]):\n",
    "    if i > 2271 and train_part_dataset.features[example_column][i].item() > 0:\n",
    "        print(i - 2271, \"   \", train_part_dataset.features[example_column][i].item())\n",
    "\n",
    "print(\"Labels / Edges: ---------------\")\n",
    "for i, edge in enumerate(train_part_dataset.labels[example_column]):\n",
    "    if train_part_dataset.labels[example_column][i].item() > 0:\n",
    "        print(i, \"  \", train_part_dataset.labels[example_column][i].item())\n"
   ],
   "outputs": [
    {
     "data": {
      "text/plain": [
       "<Figure size 640x480 with 1 Axes>"
      ],
      "image/png": "[encoded data removed]"
     },
     "metadata": {},
     "output_type": "display_data"
    },
    {
     "name": "stdout",
     "output_type": "stream",
     "text": [
      "Features: ---------------------\n",
      "4542\n",
      "1240     1.0\n",
      "Labels / Edges: ---------------\n",
      "41    1.0\n",
      "163    1.0\n"
     ]
    }
   ],
   "execution_count": 18
  },
  {
   "metadata": {
    "ExecuteTime": {
     "end_time": "2025-01-25T16:50:44.468444Z",
     "start_time": "2025-01-25T16:50:44.457443Z"
    }
   },
   "cell_type": "code",
   "source": [
    "# Train part Dataset:\n",
    "print(len(train_part_dataset.features))\n",
    "print(len(train_part_dataset.features[0]))\n",
    "print(train_part_dataset.features[0])\n",
    "print(train_part_dataset.features[0][3].item())\n",
    "\n",
    "print(len(train_part_dataset.labels))\n",
    "print(len(train_part_dataset.labels[0]))\n",
    "print(train_part_dataset.labels[0])\n",
    "print(train_part_dataset.labels[0][3].item())"
   ],
   "outputs": [
    {
     "name": "stdout",
     "output_type": "stream",
     "text": [
      "59275\n",
      "4542\n",
      "tensor([0., 0., 0.,  ..., 0., 0., 0.])\n",
      "0.0\n",
      "59275\n",
      "2271\n",
      "tensor([0., 0., 0.,  ..., 0., 0., 0.])\n",
      "0.0\n"
     ]
    }
   ],
   "execution_count": 19
  },
  {
   "cell_type": "code",
   "metadata": {
    "ExecuteTime": {
     "end_time": "2025-01-25T16:50:46.658936Z",
     "start_time": "2025-01-25T16:50:46.502868Z"
    }
   },
   "source": [
    "# Print all Edges in Graph 0:\n",
    "\n",
    "for j in range(0,6):\n",
    "    for i, element in enumerate(train_part_dataset[j][0]):\n",
    "        if i >= 2270 and element >= 1:\n",
    "            print(f\"source -> part_id {i - 2271}\")\n",
    "\n",
    "    # neighbours\n",
    "    for i, element in enumerate(train_part_dataset[j][1]):\n",
    "        if element > 0:\n",
    "            print(f\"target -> part_id {i}\")\n",
    "    \n",
    "    print(50*\"-\")"
   ],
   "outputs": [
    {
     "name": "stdout",
     "output_type": "stream",
     "text": [
      "source -> part_id 1240\n",
      "target -> part_id 41\n",
      "target -> part_id 163\n",
      "--------------------------------------------------\n",
      "source -> part_id 163\n",
      "target -> part_id 1240\n",
      "--------------------------------------------------\n",
      "source -> part_id 163\n",
      "target -> part_id 1240\n",
      "--------------------------------------------------\n",
      "source -> part_id 41\n",
      "target -> part_id 93\n",
      "target -> part_id 1240\n",
      "--------------------------------------------------\n",
      "source -> part_id 41\n",
      "target -> part_id 1240\n",
      "--------------------------------------------------\n",
      "source -> part_id 93\n",
      "target -> part_id 41\n",
      "--------------------------------------------------\n"
     ]
    }
   ],
   "execution_count": 20
  },
  {
   "cell_type": "markdown",
   "metadata": {},
   "source": [
    "# Neighbour Prediction\n",
    "\n",
    "Für jeden Part die wahrscheinlichsten Nachbarn vorhersagen"
   ]
  },
  {
   "cell_type": "markdown",
   "metadata": {},
   "source": "## Feedforward Neural Network"
  },
  {
   "metadata": {
    "ExecuteTime": {
     "end_time": "2025-01-25T16:50:50.979770Z",
     "start_time": "2025-01-25T16:50:50.965772Z"
    }
   },
   "cell_type": "code",
   "source": [
    "class FFNN(nn.Module):\n",
    "    def __init__(self, input_dim, hidden_dim, output_dim):\n",
    "        super(FFNN, self).__init__()\n",
    "        self.fc1 = nn.Linear(input_dim, hidden_dim)\n",
    "        self.fc2 = nn.Linear(hidden_dim, hidden_dim)\n",
    "        self.fc3 = nn.Linear(hidden_dim, output_dim)\n",
    "        self.sigmoid = nn.Sigmoid()\n",
    "        self._init_weights()\n",
    "\n",
    "    def _init_weights(self):\n",
    "        for layer in self.modules():\n",
    "            if isinstance(layer, nn.Linear):\n",
    "                nn.init.kaiming_normal_(layer.weight, nonlinearity='relu')\n",
    "                if layer.bias is not None:\n",
    "                    nn.init.zeros_(layer.bias)\n",
    "\n",
    "    def forward(self, x):\n",
    "        x = torch.relu(self.fc1(x))\n",
    "        x = torch.relu(self.fc2(x))\n",
    "        x = self.sigmoid(self.fc3(x))\n",
    "        return x\n",
    "\n",
    "    def train_ffnn(self, train_dataset, val_dataset, num_epochs, batch_size, learning_rate, device):\n",
    "\n",
    "        # Move model to device\n",
    "        self.to(device)\n",
    "\n",
    "        # Initialize criterion and optimizer\n",
    "        criterion = nn.BCELoss()\n",
    "        optimizer = optim.Adam(self.parameters(), lr=learning_rate)\n",
    "\n",
    "        # Prepare DataLoaders\n",
    "        train_loader = DataLoader(train_dataset, batch_size=batch_size, shuffle=True)\n",
    "        val_loader = DataLoader(val_dataset, batch_size=batch_size, shuffle=False)\n",
    "\n",
    "        # Document Losses:\n",
    "        train_losses = []\n",
    "        val_losses = []\n",
    "\n",
    "        for epoch in range(num_epochs):\n",
    "\n",
    "            # Training Phase:\n",
    "            self.train()\n",
    "            running_loss = 0.0\n",
    "\n",
    "            for batch_inputs, batch_labels in train_loader:\n",
    "                batch_inputs, batch_labels = batch_inputs.to(device), batch_labels.to(device)\n",
    "\n",
    "                optimizer.zero_grad()\n",
    "                outputs = self(batch_inputs)  # Forward pass\n",
    "                loss = criterion(outputs, batch_labels)  # Compute loss\n",
    "\n",
    "                # Backwards Pass and Update weights:\n",
    "                loss.backward()\n",
    "                optimizer.step()\n",
    "\n",
    "                running_loss += loss.item()\n",
    "\n",
    "            avg_train_loss = running_loss / len(train_loader)\n",
    "            train_losses.append(avg_train_loss)\n",
    "\n",
    "            # Validation Phase:\n",
    "            self.eval()\n",
    "            running_val_loss = 0.0\n",
    "            with torch.no_grad():\n",
    "                for val_inputs, val_targets in val_loader:\n",
    "                    val_inputs, val_targets = val_inputs.to(device), val_targets.to(device)\n",
    "                    val_outputs = self(val_inputs)  # Forward pass\n",
    "                    val_loss = criterion(val_outputs, val_targets)  # Compute loss\n",
    "                    running_val_loss += val_loss.item()\n",
    "\n",
    "            avg_val_loss = running_val_loss / len(val_loader)\n",
    "            val_losses.append(avg_val_loss)\n",
    "\n",
    "            # Print epoch summary\n",
    "            print(f\"Epoch [{epoch + 1}/{num_epochs}], Train Loss: {avg_train_loss:.4f}, Val Loss: {avg_val_loss:.4f}\")\n",
    "\n",
    "        return train_losses, val_losses\n"
   ],
   "outputs": [],
   "execution_count": 21
  },
  {
   "metadata": {
    "ExecuteTime": {
     "end_time": "2025-01-25T17:00:05.750211Z",
     "start_time": "2025-01-25T16:58:26.105512Z"
    }
   },
   "cell_type": "code",
   "source": [
    "# Initialize the model\n",
    "input_dim = 4542\n",
    "hidden_dim = 1024\n",
    "output_dim = 2271\n",
    "learning_rate = 0.0005\n",
    "num_epochs = 5\n",
    "batch_size = 64\n",
    "device = torch.device(\"cuda\" if torch.cuda.is_available() else \"cpu\")\n",
    "\n",
    "ffnn = FFNN(input_dim, hidden_dim, output_dim)\n",
    "\n",
    "# Train the model\n",
    "train_losses, val_losses = ffnn.train_ffnn(\n",
    "    train_dataset=train_part_dataset,\n",
    "    val_dataset=val_part_dataset,\n",
    "    num_epochs=num_epochs,\n",
    "    batch_size=batch_size,\n",
    "    learning_rate=learning_rate,\n",
    "    device=device\n",
    ")\n",
    "\n",
    "# Save the trained model\n",
    "file_path = \"ffnn_model.pth\"\n",
    "torch.save(ffnn.state_dict(), file_path)\n",
    "print(f\"Model saved to {file_path}\")"
   ],
   "outputs": [
    {
     "name": "stdout",
     "output_type": "stream",
     "text": [
      "Epoch [1/5], Train Loss: 0.0120, Val Loss: 0.0024\n",
      "Epoch [2/5], Train Loss: 0.0015, Val Loss: 0.0010\n",
      "Epoch [3/5], Train Loss: 0.0006, Val Loss: 0.0005\n",
      "Epoch [4/5], Train Loss: 0.0003, Val Loss: 0.0003\n",
      "Epoch [5/5], Train Loss: 0.0002, Val Loss: 0.0002\n",
      "Model saved to ffnn_model.pth\n"
     ]
    }
   ],
   "execution_count": 23
  },
  {
   "metadata": {},
   "cell_type": "markdown",
   "source": "## Evaluate FNN Performance"
  },
  {
   "cell_type": "code",
   "metadata": {
    "ExecuteTime": {
     "end_time": "2025-01-25T17:00:11.452501Z",
     "start_time": "2025-01-25T17:00:11.364295Z"
    }
   },
   "source": [
    "for i, el in enumerate(train_part_dataset[0][0]):\n",
    "    if el >= 1:\n",
    "        print(i, el)\n",
    "\n",
    "output = ffnn(train_part_dataset.features[10110].to(device))\n",
    "target = train_part_dataset.labels[10110]\n",
    "\n",
    "probs = ffnn(train_part_dataset[6][0].to(device))\n",
    "probs.max()\n",
    "\n",
    "print(\"-----------\")\n",
    "for i in range(0, 2271):\n",
    "    if target[i].item() > 0:\n",
    "        print(i, target[i].item(), \"  ---  \", output[i].item())\n",
    "    if output[i].item() > 0.5:\n",
    "        print(i, target[i].item(), \"  ---  \", output[i].item())"
   ],
   "outputs": [
    {
     "name": "stdout",
     "output_type": "stream",
     "text": [
      "41 tensor(2.)\n",
      "93 tensor(1.)\n",
      "163 tensor(2.)\n",
      "1240 tensor(1.)\n",
      "3511 tensor(1.)\n",
      "-----------\n",
      "71 1.0   ---   0.9570546746253967\n",
      "71 1.0   ---   0.9570546746253967\n",
      "579 1.0   ---   0.9148420095443726\n",
      "579 1.0   ---   0.9148420095443726\n"
     ]
    }
   ],
   "execution_count": 24
  },
  {
   "metadata": {},
   "cell_type": "markdown",
   "source": "## Visualize"
  },
  {
   "metadata": {},
   "cell_type": "code",
   "outputs": [
    {
     "name": "stdout",
     "output_type": "stream",
     "text": [
      "Training complete!\n"
     ]
    },
    {
     "data": {
      "image/png": "[encoded data removed]",
      "text/plain": [
       "<Figure size 2000x400 with 3 Axes>"
      ]
     },
     "metadata": {},
     "output_type": "display_data"
    }
   ],
   "execution_count": 14,
   "source": [
    "from matplotlib.ticker import FuncFormatter #TODO: LÖSCHEN\n",
    "\n",
    "fig, (ax1, ax2, ax3) = plt.subplots(nrows=1, ncols=3, figsize=(20, 4))\n",
    "\n",
    "ax1.set(xlabel='#Epochs', ylabel='Loss')\n",
    "fig.suptitle('Learning Progress')\n",
    "ax1.plot(train_losses_part, label=\"Training Loss\")\n",
    "ax1.plot(val_losses_part, label=\"Validation Loss\")\n",
    "ax1.legend()\n",
    "\n",
    "ax2.set(xlabel='#Epochs', ylabel='Accuracy')\n",
    "ax2.plot(train_accuracies_part, label=\"Train Accuracy\")\n",
    "ax2.plot(val_accuracies_part, label=\"Validation Accuracy\")\n",
    "ax2.legend()\n",
    "ax2.yaxis.set_major_formatter(FuncFormatter(lambda y, _: '{:.2%}'.format(y)))\n",
    "\n",
    "real_validation_errors = [1.0 - (train_accuracy + abs(val_accuracy - train_accuracy)) for train_accuracy, val_accuracy in zip(train_accuracies_part,val_accuracies_part)]\n",
    "ax3.set(xlabel='#Epochs', ylabel='Real Val Error (e_train + |e_val - e_train|)')\n",
    "ax3.plot(real_validation_errors)\n",
    "ax3.yaxis.set_major_formatter(FuncFormatter(lambda y, _: '{:.2%}'.format(y)))\n",
    "\n",
    "\n",
    "\n",
    "print(\"Training complete!\")\n",
    "# print(result_list)\n",
    "\n",
    "#TODO: Modell speichern!!!\n",
    "# torch.save(model.state_dict(), \"neighbor_prediction_model.pth\")\n"
   ]
  },
  {
   "cell_type": "markdown",
   "metadata": {},
   "source": [
    "## Jonas Graph Prediction\n",
    "\n",
    "Nachdem wir nun eine Möglichkeit haben, pro Knoten/Part die Wahrscheinlichkeit für den/die direkten Nachbarn zu berechnen, müssen wir daraus nur noch den Gaphen zusammenbauen"
   ]
  },
  {
   "cell_type": "code",
   "metadata": {
    "ExecuteTime": {
     "end_time": "2025-01-25T15:33:12.727457Z",
     "start_time": "2025-01-25T15:33:12.710376Z"
    }
   },
   "source": [
    "from evaluation import MyPredictionModel\n",
    "\n",
    "class GraphPrediction(MyPredictionModel):\n",
    "    def __init__(self, model, dataset):\n",
    "        self.model = model\n",
    "        self.dataset = dataset\n",
    "        self.total_global_part_to_idx = dataset.total_global_part_to_idx  # PartID -> Index mapping\n",
    "    \n",
    "    def predict_graph(self, parts: Set[Part]) -> Graph:\n",
    "        '''We get a set of parts and build a fully connected graph out of this. The edges are given a weight obtained from the model.\n",
    "        Then we want to minimize the fully connected graph to a graph with the fewest edges possible. \n",
    "        We do this by only keeping the edges with the highest weights. This is the same as keeping the minimal 1-weight edges.\n",
    "        This can be done by getting the minimal spanning tree of the graph. \n",
    "        '''\n",
    "\n",
    "        # ich sortiere die Parts nach ihrer ID\n",
    "        parts = sorted(parts, key=lambda part: int(part.get_part_id()))\n",
    "        parts = list(parts)\n",
    "\n",
    "        # ich encode die parts -> \n",
    "        part_frequency_tensor = self.dataset.frequency_encoding(parts)\n",
    "        predicted_neighbours = []\n",
    "        for part in parts:\n",
    "            one_hot_encoded = self.dataset.one_hot_encoding(part)\n",
    "            combined_tensor = torch.cat((part_frequency_tensor, one_hot_encoded), dim=0)\n",
    "            # ich setze die parts in mein Modell ein und erhalte dann eine Matrix mit den Wahrscheinlichkeiten der Kanten\n",
    "            neighbour_prediction = ffnn(combined_tensor.to(device))\n",
    "            # print(f\"neighbour_prediction max: {neighbour_prediction.max()}\")\n",
    "            predicted_neighbours.append(neighbour_prediction)\n",
    "        \n",
    "        # cast to tensor\n",
    "        predicted_neighbours = torch.stack(predicted_neighbours) # with global mapping of part ids\n",
    "\n",
    "        # print(f\"MAX {predicted_neighbours.max()}\")\n",
    "\n",
    "        # TODO: GLOBAL MAPPING FOR PART IDS\n",
    "        # erstelle einen fully connected graph\n",
    "        fully_connected_graph = self.build_graph_with_weights(parts, predicted_neighbours) \n",
    "        # self.draw_tree(fully_connected_graph)\n",
    "\n",
    "        # erstelle einen minimal spanning tree\n",
    "        minimal_spanning_tree = self.build_minimum_spanning_tree(fully_connected_graph)\n",
    "        # self.draw_tree(minimal_spanning_tree)\n",
    "\n",
    "        # self.draw_tree(minimal_spanning_tree, title=\"Minimum Spanning Tree\")\n",
    "\n",
    "        predicted_graph = self.convert_nx_graph_to_custom_graph(minimal_spanning_tree, parts)\n",
    "\n",
    "        # predicted_graph.draw()\n",
    "\n",
    "        return predicted_graph\n",
    "\n",
    "\n",
    "    # Angenommen: parts ist eine Liste der Eingabe-Parts mit Länge 6\n",
    "    # Angenommen: predicted_neighbours ist die 6 x 1089 Tensor-Matrix mit den Wahrscheinlichkeiten\n",
    "    # predicted_neighbours[i][j] = Wahrscheinlichkeit, dass Part i mit Part j verbunden ist\n",
    "    def convert_nx_graph_to_custom_graph(self, nx_graph, parts):\n",
    "        # TODO: DOPPELTE PARTS WERDEN NUR EINMAL HINZUGEFÜGT\n",
    "        #TODO: GLOBAL MAPPING FOR PART IDS\n",
    "        custom_graph = Graph()\n",
    "        \n",
    "        # Add edges (undirected) to the custom graph\n",
    "\n",
    "        for u, v, edge_data in nx_graph.edges(data=True):\n",
    "            # Extract the global IDs for the nodes (u and v)\n",
    "            index_source = int(u.split('-')[1])  # Extract Index in parts list  from \"Part-{i}-{part_id}\" format\n",
    "            index_target = int(v.split('-')[1])  # Extract Index in parts list from \"Part-{j}-{part_id}\" format\n",
    "            \n",
    "            # Add an undirected edge between the two Parts\n",
    "            custom_graph.add_undirected_edge(parts[index_source], parts[index_target])\n",
    "            # custom_graph.draw()\n",
    "        \n",
    "        return custom_graph\n",
    "\n",
    "\n",
    "    def build_graph_with_weights(self, parts, predicted_neighbours):\n",
    "        # TODO: global mapping for parts is missing - for predicted_neighbours it is implemented\n",
    "        G = nx.Graph()  # Create an undirected graph\n",
    "\n",
    "        # Add all parts as nodes with unique identifiers\n",
    "        for i, part in enumerate(parts):\n",
    "            G.add_node(f\"Part-{i}-{part.get_part_id()}\", part=part)\n",
    "\n",
    "        # Add edges between the nodes (only for input parts)\n",
    "        for i, part in enumerate(parts):\n",
    "            for j, other_part in enumerate(parts):\n",
    "                if i != j:  # Avoid self-loops\n",
    "                    weight = 1 - predicted_neighbours[i][j].item()  # Convert probability to distance\n",
    "                    # Add an edge between the nodes with the computed weight\n",
    "                    G.add_edge(f\"Part-{i}-{part.get_part_id()}\", f\"Part-{j}-{other_part.get_part_id()}\", weight=weight)\n",
    "\n",
    "        return G\n",
    "\n",
    "    def build_minimum_spanning_tree(self, graph):\n",
    "        # Compute the Minimum Spanning Tree (MST)\n",
    "        mst = nx.minimum_spanning_tree(graph, weight=\"weight\")\n",
    "        # self.draw_tree(mst)\n",
    "        return mst\n",
    "\n",
    "\n",
    "    def draw_tree(self, tree, title=\"Minimum Spanning Tree\"):\n",
    "        # Generate layout positions for the tree (spring layout works well for small graphs)\n",
    "        pos = nx.spring_layout(tree)  # You can use other layouts like nx.kamada_kawai_layout(tree)\n",
    "\n",
    "        # Draw the graph\n",
    "        plt.figure(figsize=(10, 8))\n",
    "        nx.draw(tree, pos, with_labels=True, node_size=500, font_size=10, node_color=\"skyblue\", edge_color=\"gray\")\n",
    "\n",
    "        # Draw edge weights\n",
    "        edge_labels = nx.get_edge_attributes(tree, 'weight')\n",
    "        nx.draw_networkx_edge_labels(tree, pos, edge_labels=edge_labels, font_size=9)\n",
    "\n",
    "        # Add a title\n",
    "        plt.title(title)\n",
    "        plt.show()"
   ],
   "outputs": [],
   "execution_count": 104
  },
  {
   "cell_type": "code",
   "metadata": {
    "ExecuteTime": {
     "end_time": "2025-01-25T15:33:16.151801Z",
     "start_time": "2025-01-25T15:33:16.127382Z"
    }
   },
   "source": [
    "testing_list = []\n",
    "for parts, graph in testing_set: \n",
    "    tuple = (parts, graph)\n",
    "    # graph.draw()\n",
    "    testing_list.append(tuple)"
   ],
   "outputs": [],
   "execution_count": 105
  },
  {
   "cell_type": "code",
   "metadata": {
    "ExecuteTime": {
     "end_time": "2025-01-25T15:01:44.845546Z",
     "start_time": "2025-01-25T15:00:32.614357Z"
    }
   },
   "source": [
    "from evaluation import evaluate\n",
    "\n",
    "builder = PartPredictor(ffnn, training_set) # training_set is only used for the global mapping of part ids\n",
    "accuracy = evaluate(builder, testing_list)\n",
    "print(\"Accuracy of NeighbourGraphPredictionModel: \", accuracy)\n",
    "# TODO Bei simon knapp 97%"
   ],
   "outputs": [
    {
     "name": "stdout",
     "output_type": "stream",
     "text": [
      "Accuracy of NeighbourGraphPredictionModel:  71.6615245089758\n"
     ]
    }
   ],
   "execution_count": 62
  },
  {
   "metadata": {},
   "cell_type": "markdown",
   "source": "# Graph Builder"
  },
  {
   "metadata": {},
   "cell_type": "code",
   "outputs": [],
   "execution_count": null,
   "source": [
    "# Create example PartSet\n",
    "exmaple_graph = Set()\n",
    "example_graph."
   ]
  },
  {
   "metadata": {
    "ExecuteTime": {
     "end_time": "2025-01-25T16:25:57.500062Z",
     "start_time": "2025-01-25T16:25:57.231559Z"
    }
   },
   "cell_type": "code",
   "source": [
    "class GraphBuilder(MyPredictionModel):\n",
    "    def __init__(self):\n",
    "        super().__init__()\n",
    "        self.model = None\n",
    "\n",
    "    def load_model(self, file_path: str) -> MyPredictionModel:\n",
    "        # Ensure the model is initialized with the same architecture\n",
    "        model = FFNN(input_dim=4542, hidden_dim=1024, output_dim=2271)  # Use the same architecture as during training\n",
    "\n",
    "        # Load the saved state_dict\n",
    "        model.load_state_dict(torch.load(file_path))\n",
    "\n",
    "        # Set the model to evaluation mode (important for inference)\n",
    "        model.eval()\n",
    "\n",
    "        # Store it in the class instance\n",
    "        self.model = model\n",
    "        return model\n",
    "\n",
    "    def predict_graph(self, parts: Set[Part]) -> Graph:\n",
    "\n",
    "        # Generate Frequency Encoding:\n",
    "        part_ids = []\n",
    "        for part in parts:\n",
    "            part_ids.append(part.get_part_id())\n",
    "\n",
    "        print(part_ids)\n",
    "\n",
    "        # Generate One Hot Emcoding:\n",
    "\n",
    "        # Combine Frequency and One Hot Encoding:\n",
    "\n",
    "        # Query Model\n",
    "\n",
    "        # Build Graph\n",
    "\n",
    "\n",
    "\n"
   ],
   "outputs": [
    {
     "name": "stderr",
     "output_type": "stream",
     "text": [
      "C:\\Project_Space\\Baugruppen\\ai-lecture-project\\graph_builder.py:17: FutureWarning: You are using `torch.load` with `weights_only=False` (the current default value), which uses the default pickle module implicitly. It is possible to construct malicious pickle data which will execute arbitrary code during unpickling (See https://github.com/pytorch/pytorch/blob/main/SECURITY.md#untrusted-models for more details). In a future release, the default value for `weights_only` will be flipped to `True`. This limits the functions that could be executed during unpickling. Arbitrary objects will no longer be allowed to be loaded via this mode unless they are explicitly allowlisted by the user via `torch.serialization.add_safe_globals`. We recommend you start setting `weights_only=True` for any use case where you don't have full control of the loaded file. Please open an issue on GitHub for any issues related to this experimental feature.\n",
      "  model = torch.load(file_path)\n"
     ]
    },
    {
     "ename": "AttributeError",
     "evalue": "'FFNN' object has no attribute 'seek'. You can only torch.load from a file that is seekable. Please pre-load the data into a buffer like io.BytesIO and try to load from it instead.",
     "output_type": "error",
     "traceback": [
      "\u001B[1;31m---------------------------------------------------------------------------\u001B[0m",
      "\u001B[1;31mAttributeError\u001B[0m                            Traceback (most recent call last)",
      "File \u001B[1;32m~\\miniconda3\\envs\\ai-project\\lib\\site-packages\\torch\\serialization.py:564\u001B[0m, in \u001B[0;36m_check_seekable\u001B[1;34m(f)\u001B[0m\n\u001B[0;32m    563\u001B[0m \u001B[38;5;28;01mtry\u001B[39;00m:\n\u001B[1;32m--> 564\u001B[0m     \u001B[43mf\u001B[49m\u001B[38;5;241;43m.\u001B[39;49m\u001B[43mseek\u001B[49m(f\u001B[38;5;241m.\u001B[39mtell())\n\u001B[0;32m    565\u001B[0m     \u001B[38;5;28;01mreturn\u001B[39;00m \u001B[38;5;28;01mTrue\u001B[39;00m\n",
      "File \u001B[1;32m~\\miniconda3\\envs\\ai-project\\lib\\site-packages\\torch\\nn\\modules\\module.py:1729\u001B[0m, in \u001B[0;36mModule.__getattr__\u001B[1;34m(self, name)\u001B[0m\n\u001B[0;32m   1728\u001B[0m         \u001B[38;5;28;01mreturn\u001B[39;00m modules[name]\n\u001B[1;32m-> 1729\u001B[0m \u001B[38;5;28;01mraise\u001B[39;00m \u001B[38;5;167;01mAttributeError\u001B[39;00m(\u001B[38;5;124mf\u001B[39m\u001B[38;5;124m\"\u001B[39m\u001B[38;5;124m'\u001B[39m\u001B[38;5;132;01m{\u001B[39;00m\u001B[38;5;28mtype\u001B[39m(\u001B[38;5;28mself\u001B[39m)\u001B[38;5;241m.\u001B[39m\u001B[38;5;18m__name__\u001B[39m\u001B[38;5;132;01m}\u001B[39;00m\u001B[38;5;124m'\u001B[39m\u001B[38;5;124m object has no attribute \u001B[39m\u001B[38;5;124m'\u001B[39m\u001B[38;5;132;01m{\u001B[39;00mname\u001B[38;5;132;01m}\u001B[39;00m\u001B[38;5;124m'\u001B[39m\u001B[38;5;124m\"\u001B[39m)\n",
      "\u001B[1;31mAttributeError\u001B[0m: 'FFNN' object has no attribute 'seek'",
      "\nDuring handling of the above exception, another exception occurred:\n",
      "\u001B[1;31mAttributeError\u001B[0m                            Traceback (most recent call last)",
      "Cell \u001B[1;32mIn[110], line 15\u001B[0m\n\u001B[0;32m     13\u001B[0m \u001B[38;5;66;03m# Setup Graph Builder:\u001B[39;00m\n\u001B[0;32m     14\u001B[0m graphbuilder \u001B[38;5;241m=\u001B[39m GraphBuilder()\n\u001B[1;32m---> 15\u001B[0m \u001B[43mgraphbuilder\u001B[49m\u001B[38;5;241;43m.\u001B[39;49m\u001B[43mload_model\u001B[49m\u001B[43m(\u001B[49m\u001B[43mffnn\u001B[49m\u001B[43m)\u001B[49m\n\u001B[0;32m     17\u001B[0m graphbuilder\u001B[38;5;241m.\u001B[39mpredict_graph(example_parts_set)\n",
      "File \u001B[1;32mC:\\Project_Space\\Baugruppen\\ai-lecture-project\\graph_builder.py:17\u001B[0m, in \u001B[0;36mGraphBuilder.load_model\u001B[1;34m(self, file_path)\u001B[0m\n\u001B[0;32m     16\u001B[0m \u001B[38;5;28;01mdef\u001B[39;00m \u001B[38;5;21mload_model\u001B[39m(\u001B[38;5;28mself\u001B[39m, file_path: \u001B[38;5;28mstr\u001B[39m) \u001B[38;5;241m-\u001B[39m\u001B[38;5;241m>\u001B[39m MyPredictionModel:\n\u001B[1;32m---> 17\u001B[0m     model \u001B[38;5;241m=\u001B[39m \u001B[43mtorch\u001B[49m\u001B[38;5;241;43m.\u001B[39;49m\u001B[43mload\u001B[49m\u001B[43m(\u001B[49m\u001B[43mfile_path\u001B[49m\u001B[43m)\u001B[49m\n\u001B[0;32m     18\u001B[0m     \u001B[38;5;28mself\u001B[39m\u001B[38;5;241m.\u001B[39mmodel \u001B[38;5;241m=\u001B[39m model\n\u001B[0;32m     19\u001B[0m     \u001B[38;5;28;01mreturn\u001B[39;00m model\n",
      "File \u001B[1;32m~\\miniconda3\\envs\\ai-project\\lib\\site-packages\\torch\\serialization.py:1065\u001B[0m, in \u001B[0;36mload\u001B[1;34m(f, map_location, pickle_module, weights_only, mmap, **pickle_load_args)\u001B[0m\n\u001B[0;32m   1062\u001B[0m \u001B[38;5;28;01mif\u001B[39;00m \u001B[38;5;124m'\u001B[39m\u001B[38;5;124mencoding\u001B[39m\u001B[38;5;124m'\u001B[39m \u001B[38;5;129;01mnot\u001B[39;00m \u001B[38;5;129;01min\u001B[39;00m pickle_load_args\u001B[38;5;241m.\u001B[39mkeys():\n\u001B[0;32m   1063\u001B[0m     pickle_load_args[\u001B[38;5;124m'\u001B[39m\u001B[38;5;124mencoding\u001B[39m\u001B[38;5;124m'\u001B[39m] \u001B[38;5;241m=\u001B[39m \u001B[38;5;124m'\u001B[39m\u001B[38;5;124mutf-8\u001B[39m\u001B[38;5;124m'\u001B[39m\n\u001B[1;32m-> 1065\u001B[0m \u001B[38;5;28;01mwith\u001B[39;00m \u001B[43m_open_file_like\u001B[49m\u001B[43m(\u001B[49m\u001B[43mf\u001B[49m\u001B[43m,\u001B[49m\u001B[43m \u001B[49m\u001B[38;5;124;43m'\u001B[39;49m\u001B[38;5;124;43mrb\u001B[39;49m\u001B[38;5;124;43m'\u001B[39;49m\u001B[43m)\u001B[49m \u001B[38;5;28;01mas\u001B[39;00m opened_file:\n\u001B[0;32m   1066\u001B[0m     \u001B[38;5;28;01mif\u001B[39;00m _is_zipfile(opened_file):\n\u001B[0;32m   1067\u001B[0m         \u001B[38;5;66;03m# The zipfile reader is going to advance the current file position.\u001B[39;00m\n\u001B[0;32m   1068\u001B[0m         \u001B[38;5;66;03m# If we want to actually tail call to torch.jit.load, we need to\u001B[39;00m\n\u001B[0;32m   1069\u001B[0m         \u001B[38;5;66;03m# reset back to the original position.\u001B[39;00m\n\u001B[0;32m   1070\u001B[0m         orig_position \u001B[38;5;241m=\u001B[39m opened_file\u001B[38;5;241m.\u001B[39mtell()\n",
      "File \u001B[1;32m~\\miniconda3\\envs\\ai-project\\lib\\site-packages\\torch\\serialization.py:473\u001B[0m, in \u001B[0;36m_open_file_like\u001B[1;34m(name_or_buffer, mode)\u001B[0m\n\u001B[0;32m    471\u001B[0m     \u001B[38;5;28;01mreturn\u001B[39;00m _open_buffer_writer(name_or_buffer)\n\u001B[0;32m    472\u001B[0m \u001B[38;5;28;01melif\u001B[39;00m \u001B[38;5;124m'\u001B[39m\u001B[38;5;124mr\u001B[39m\u001B[38;5;124m'\u001B[39m \u001B[38;5;129;01min\u001B[39;00m mode:\n\u001B[1;32m--> 473\u001B[0m     \u001B[38;5;28;01mreturn\u001B[39;00m \u001B[43m_open_buffer_reader\u001B[49m\u001B[43m(\u001B[49m\u001B[43mname_or_buffer\u001B[49m\u001B[43m)\u001B[49m\n\u001B[0;32m    474\u001B[0m \u001B[38;5;28;01melse\u001B[39;00m:\n\u001B[0;32m    475\u001B[0m     \u001B[38;5;28;01mraise\u001B[39;00m \u001B[38;5;167;01mRuntimeError\u001B[39;00m(\u001B[38;5;124mf\u001B[39m\u001B[38;5;124m\"\u001B[39m\u001B[38;5;124mExpected \u001B[39m\u001B[38;5;124m'\u001B[39m\u001B[38;5;124mr\u001B[39m\u001B[38;5;124m'\u001B[39m\u001B[38;5;124m or \u001B[39m\u001B[38;5;124m'\u001B[39m\u001B[38;5;124mw\u001B[39m\u001B[38;5;124m'\u001B[39m\u001B[38;5;124m in mode but got \u001B[39m\u001B[38;5;132;01m{\u001B[39;00mmode\u001B[38;5;132;01m}\u001B[39;00m\u001B[38;5;124m\"\u001B[39m)\n",
      "File \u001B[1;32m~\\miniconda3\\envs\\ai-project\\lib\\site-packages\\torch\\serialization.py:458\u001B[0m, in \u001B[0;36m_open_buffer_reader.__init__\u001B[1;34m(self, buffer)\u001B[0m\n\u001B[0;32m    456\u001B[0m \u001B[38;5;28;01mdef\u001B[39;00m \u001B[38;5;21m__init__\u001B[39m(\u001B[38;5;28mself\u001B[39m, buffer):\n\u001B[0;32m    457\u001B[0m     \u001B[38;5;28msuper\u001B[39m()\u001B[38;5;241m.\u001B[39m\u001B[38;5;21m__init__\u001B[39m(buffer)\n\u001B[1;32m--> 458\u001B[0m     \u001B[43m_check_seekable\u001B[49m\u001B[43m(\u001B[49m\u001B[43mbuffer\u001B[49m\u001B[43m)\u001B[49m\n",
      "File \u001B[1;32m~\\miniconda3\\envs\\ai-project\\lib\\site-packages\\torch\\serialization.py:567\u001B[0m, in \u001B[0;36m_check_seekable\u001B[1;34m(f)\u001B[0m\n\u001B[0;32m    565\u001B[0m     \u001B[38;5;28;01mreturn\u001B[39;00m \u001B[38;5;28;01mTrue\u001B[39;00m\n\u001B[0;32m    566\u001B[0m \u001B[38;5;28;01mexcept\u001B[39;00m (io\u001B[38;5;241m.\u001B[39mUnsupportedOperation, \u001B[38;5;167;01mAttributeError\u001B[39;00m) \u001B[38;5;28;01mas\u001B[39;00m e:\n\u001B[1;32m--> 567\u001B[0m     \u001B[43mraise_err_msg\u001B[49m\u001B[43m(\u001B[49m\u001B[43m[\u001B[49m\u001B[38;5;124;43m\"\u001B[39;49m\u001B[38;5;124;43mseek\u001B[39;49m\u001B[38;5;124;43m\"\u001B[39;49m\u001B[43m,\u001B[49m\u001B[43m \u001B[49m\u001B[38;5;124;43m\"\u001B[39;49m\u001B[38;5;124;43mtell\u001B[39;49m\u001B[38;5;124;43m\"\u001B[39;49m\u001B[43m]\u001B[49m\u001B[43m,\u001B[49m\u001B[43m \u001B[49m\u001B[43me\u001B[49m\u001B[43m)\u001B[49m\n\u001B[0;32m    568\u001B[0m \u001B[38;5;28;01mreturn\u001B[39;00m \u001B[38;5;28;01mFalse\u001B[39;00m\n",
      "File \u001B[1;32m~\\miniconda3\\envs\\ai-project\\lib\\site-packages\\torch\\serialization.py:560\u001B[0m, in \u001B[0;36m_check_seekable.<locals>.raise_err_msg\u001B[1;34m(patterns, e)\u001B[0m\n\u001B[0;32m    556\u001B[0m     \u001B[38;5;28;01mif\u001B[39;00m p \u001B[38;5;129;01min\u001B[39;00m \u001B[38;5;28mstr\u001B[39m(e):\n\u001B[0;32m    557\u001B[0m         msg \u001B[38;5;241m=\u001B[39m (\u001B[38;5;28mstr\u001B[39m(e) \u001B[38;5;241m+\u001B[39m \u001B[38;5;124m\"\u001B[39m\u001B[38;5;124m. You can only torch.load from a file that is seekable.\u001B[39m\u001B[38;5;124m\"\u001B[39m\n\u001B[0;32m    558\u001B[0m                         \u001B[38;5;241m+\u001B[39m \u001B[38;5;124m\"\u001B[39m\u001B[38;5;124m Please pre-load the data into a buffer like io.BytesIO and\u001B[39m\u001B[38;5;124m\"\u001B[39m\n\u001B[0;32m    559\u001B[0m                         \u001B[38;5;241m+\u001B[39m \u001B[38;5;124m\"\u001B[39m\u001B[38;5;124m try to load from it instead.\u001B[39m\u001B[38;5;124m\"\u001B[39m)\n\u001B[1;32m--> 560\u001B[0m         \u001B[38;5;28;01mraise\u001B[39;00m \u001B[38;5;28mtype\u001B[39m(e)(msg)\n\u001B[0;32m    561\u001B[0m \u001B[38;5;28;01mraise\u001B[39;00m e\n",
      "\u001B[1;31mAttributeError\u001B[0m: 'FFNN' object has no attribute 'seek'. You can only torch.load from a file that is seekable. Please pre-load the data into a buffer like io.BytesIO and try to load from it instead."
     ]
    }
   ],
   "execution_count": 110
  }
 ],
 "metadata": {
  "kernelspec": {
   "display_name": "ai-project",
   "language": "python",
   "name": "python3"
  },
  "language_info": {
   "codemirror_mode": {
    "name": "ipython",
    "version": 3
   },
   "file_extension": ".py",
   "mimetype": "text/x-python",
   "name": "python",
   "nbconvert_exporter": "python",
   "pygments_lexer": "ipython3",
   "version": "3.8.18"
  }
 },
 "nbformat": 4,
 "nbformat_minor": 2
}
