{
 "cells": [
  {
   "metadata": {},
   "cell_type": "markdown",
   "source": "# Setup"
  },
  {
   "metadata": {
    "ExecuteTime": {
     "end_time": "2025-01-25T17:04:19.110921Z",
     "start_time": "2025-01-25T17:04:19.098918Z"
    }
   },
   "cell_type": "code",
   "source": [
    "import os\n",
    "\n",
    "import random\n",
    "from matplotlib import pyplot as plt\n",
    "from torch.utils.data import Dataset\n",
    "from torch_geometric.loader import DataLoader\n",
    "from graph_loader import load_graphs\n",
    "\n",
    "from part import Part\n",
    "from typing import Set\n",
    "\n",
    "import torch.optim as optim\n",
    "\n",
    "from evaluation import MyPredictionModel\n",
    "\n",
    "\n",
    "import torch\n",
    "import torch.nn as nn\n",
    "from graph import Graph"
   ],
   "outputs": [],
   "execution_count": 38
  },
  {
   "cell_type": "code",
   "metadata": {
    "ExecuteTime": {
     "end_time": "2025-01-25T21:00:12.182256Z",
     "start_time": "2025-01-25T21:00:12.163686Z"
    }
   },
   "source": [
    "# MPS for Metal acceleration for Mac\n",
    "# device = torch.device(\"cuda\" if torch.cuda.is_available() else \"mps\" if torch.has_mps else \"cpu\")\n",
    "device = torch.device(\"cuda\" if torch.cuda.is_available() else \"mps\" if torch.backends.mps.is_built() else \"cpu\")\n",
    "# device = torch.device(\"cpu\")\n",
    "SEED = 2\n",
    "random.seed(SEED)\n",
    "# setgrad = lambda g, *ms: [setattr(p,'requires_grad', g) for m in ms for p in m.parameters() ]  \n",
    "\n",
    "# Hyperparameter:\n",
    "input_dim = 4542        # Fest\n",
    "hidden_dim = 1024       # 128 / 1024 / 2048 / 4542   -> Input = obere schranke\n",
    "output_dim = 2271       # Fest\n",
    "learning_rate = 0.0005  # 0.01 / 0.001 / 0.0005\n",
    "num_epochs = 50         # Fest\n",
    "batch_size = 1          # 16 / 32 / 64"
   ],
   "outputs": [],
   "execution_count": 251
  },
  {
   "metadata": {},
   "cell_type": "markdown",
   "source": "# 1. GraphDataSet"
  },
  {
   "cell_type": "code",
   "metadata": {
    "ExecuteTime": {
     "end_time": "2025-01-25T17:03:23.459236Z",
     "start_time": "2025-01-25T17:03:23.441235Z"
    }
   },
   "source": [
    "from sklearn.model_selection import train_test_split\n",
    "\n",
    "\n",
    "class GraphDataset(Dataset):\n",
    "    def __init__(self, file_path: str, train=False, validation=False, test=False, seed=42):\n",
    "        if not os.path.exists(file_path):\n",
    "            raise FileNotFoundError(f\"Dataset file not found at {file_path}\")\n",
    "\n",
    "        self.graphs = load_graphs(file_path)\n",
    "\n",
    "        if sum([train, validation, test]) != 1:\n",
    "            raise ValueError(\"Exactly one of 'train', 'validation', or 'test' must be True.\")\n",
    "\n",
    "\n",
    "        # Create global mapping for unique parts\n",
    "        self.family_part_dict = {}\n",
    "\n",
    "\n",
    "        unique_parts = set()\n",
    "        for graph in self.graphs:\n",
    "            parts = graph.get_parts()\n",
    "            for part in parts:\n",
    "                unique_parts.add(int(part.get_part_id()))\n",
    "                self.family_part_dict[int(part.get_part_id())] = int(part.get_family_id())\n",
    "\n",
    "        # unique parts and mapping across all graphs (not just within a certain split)\n",
    "        unique_parts = sorted(list(unique_parts))\n",
    "        self.total_global_part_to_idx = {part: idx for idx, part in enumerate(unique_parts)} # mapping part_id to index\n",
    "        self.idx_to_part_id = {idx: part for part, idx in self.total_global_part_to_idx.items()}  # Reverse mapping\n",
    "\n",
    "        self.total_num_unique_parts = max(unique_parts)+1\n",
    "        # self.total_num_unique_parts = len(unique_parts)\n",
    "\n",
    "        # Split: 70% training, 15% validation, 15% test\n",
    "        train_graphs, test_graphs = train_test_split(self.graphs, test_size=0.3, random_state=seed)\n",
    "        validation_graphs, test_graphs = train_test_split(test_graphs, test_size=0.5, random_state=seed)\n",
    "\n",
    "        # Create Train and Test Split:\n",
    "        if train:\n",
    "            self.graphs = train_graphs\n",
    "        elif validation:\n",
    "            self.graphs = validation_graphs\n",
    "        elif test:\n",
    "            self.graphs = test_graphs\n",
    "\n",
    "    def __len__(self):\n",
    "        return len(self.graphs)\n",
    "\n",
    "    def __getitem__(self, idx):\n",
    "        '''\n",
    "        Returns the parts and the corresponding graph at the given index.\n",
    "        '''\n",
    "        return self.graphs[idx].get_parts(), self.graphs[idx]\n",
    "\n",
    "    def encode_features(self, parts):\n",
    "        \"\"\"\n",
    "            1. Sortieren alle parts in graphen nach partID\n",
    "            2. Erstellen Frequency Encoding für part\n",
    "            3. Erstellen one Hot Encoding für parts\n",
    "            4. Combines Encodings in einen gestackten vektor\n",
    "        \"\"\"\n",
    "\n",
    "        # sort parts by part_id and convert to list\n",
    "        parts = sorted(parts, key=lambda part: int(part.get_part_id()))\n",
    "        parts = list(parts)\n",
    "        \n",
    "        combined_tensors = []\n",
    "        # frequency encoding\n",
    "        part_frequency_tensor = self.frequency_encoding(parts)              # Für alle Parts einmal pro Graph\n",
    "        for part in parts:\n",
    "            # one hot encoding\n",
    "            one_hot_encoded = self.one_hot_encoding(part)                   # Pro part meheree male pro Graph\n",
    "            combined_tensor = torch.cat((part_frequency_tensor, one_hot_encoded), dim=0)\n",
    "            combined_tensors.append(combined_tensor)\n",
    "        # transform list of tensors to tensor\n",
    "        combined_tensors = torch.stack(combined_tensors)\n",
    "        return combined_tensors\n",
    "\n",
    "    # TODO Werte checken - wird passen\n",
    "    def frequency_encoding(self, parts):\n",
    "        \"\"\" \n",
    "        Frequency encoding of parts in a graph including the mapping to the global part index.\n",
    "        \"\"\"\n",
    "        part_frequency_tensor = np.zeros(self.total_num_unique_parts, dtype=np.int32)\n",
    "        for part in parts:\n",
    "            part_id = int(part.get_part_id())\n",
    "            part_frequency_tensor[part_id] += 1\n",
    "\n",
    "            # mapped_id = self.total_global_part_to_idx[part_id]\n",
    "            # part_frequency_tensor[mapped_id] += 1\n",
    "        # cast to tensor\n",
    "        part_frequency_tensor = torch.tensor(part_frequency_tensor, dtype=torch.float32)\n",
    "        return part_frequency_tensor\n",
    "\n",
    "    # TODO Werte checken - wird passen\n",
    "    def one_hot_encoding(self, part):\n",
    "        \"\"\"\n",
    "        One-hot encoding of part including the mapping to the global part index.\n",
    "        \"\"\"\n",
    "        one_hot_encoded = np.zeros(self.total_num_unique_parts, dtype=np.int32)\n",
    "        part_id = int(part.get_part_id())\n",
    "        one_hot_encoded[part_id] = 1\n",
    "        # mapped_id = self.total_global_part_to_idx[part_id]\n",
    "        # one_hot_encoded[mapped_id] = 1\n",
    "        # cast to tensor\n",
    "        one_hot_encoded = torch.tensor(one_hot_encoded, dtype=torch.float32)\n",
    "        return one_hot_encoded\n",
    "\n",
    "    \n",
    "    def graph_to_neighbour_matrix(self, graph):\n",
    "        \"\"\"\n",
    "        This will not create the adjacency matrix, but rather for each node a tensor with the neighbours. \n",
    "        These tensors are then stacked to create the neighbour matrix.\n",
    "\n",
    "\n",
    "\n",
    "\n",
    "        Erstellt für Graphn die gesamte Adjazenzmatrix: oben / x: Source, links / y: target\n",
    "\n",
    "        Genauso viele Spalten wie Parts in graphen (e.g. für gleiche PartIDs mehere Spalten) und insg. Reihen pro spalte für 2000 parts\n",
    "\n",
    "            58, 58, 58, 58 1621 source\n",
    "            1   2   3   4  5\n",
    "        1\n",
    "        2\n",
    "        3               One-hot encoded\n",
    "        ...\n",
    "        target\n",
    "\n",
    "\n",
    "        \"\"\"\n",
    "        neighbours = graph.get_edges()\n",
    "        # sort nodes by part_id -> because our features were also sorted according to part_id\n",
    "        nodes = sorted(graph.get_nodes(), key=lambda node: int(node.get_part().get_part_id()))\n",
    "\n",
    "        neighbour_matrix = []\n",
    "\n",
    "        for node in nodes:\n",
    "            \n",
    "            neighbour_tensor = torch.zeros(self.total_num_unique_parts, dtype=torch.float32)\n",
    "            # find the neighbours of each node\n",
    "            for current_neighbour in neighbours[node]:\n",
    "                neighbour_id = int(current_neighbour.get_part().get_part_id())\n",
    "                neighbour_tensor[neighbour_id] = 1\n",
    "                # mapped_id = self.total_global_part_to_idx[neighbour_id]\n",
    "                # neighbour_tensor[mapped_id] = 1\n",
    "\n",
    "            neighbour_matrix.append(neighbour_tensor)\n",
    "        \n",
    "        # transform list of tensors to tensor\n",
    "        neighbour_matrix = torch.stack(neighbour_matrix)\n",
    "        return neighbour_matrix\n"
   ],
   "outputs": [],
   "execution_count": 28
  },
  {
   "metadata": {},
   "cell_type": "markdown",
   "source": "# 2. PartDataSet"
  },
  {
   "cell_type": "code",
   "metadata": {
    "ExecuteTime": {
     "end_time": "2025-01-25T17:03:29.505087Z",
     "start_time": "2025-01-25T17:03:29.484845Z"
    }
   },
   "source": [
    "class PartDataset(Dataset):\n",
    "    def __init__(self, graph_dataset):\n",
    "        \"\"\"\n",
    "        Initialisiert das PartDataset basierend auf dem bestehenden GraphDataset.\n",
    "        Erstellt ein Datenset, welches jeweils als feature die Kombination aus Frequency Encoding und One-Hot Encoding enthält und als label die Nachbarn jedes Knotens.\n",
    "        :param graph_dataset: Instanz von GraphDataset.\n",
    "        \"\"\"\n",
    "        self.features = []\n",
    "        self.labels = []\n",
    "\n",
    "        \"\"\"\n",
    "            Wir holen uns parts aus graphen, wir sortieren die PartIDs\n",
    "            Erzeugen wir frequency (für graphen) und one hot (für einzelne Parts) vektoren\n",
    "        \"\"\"\n",
    "\n",
    "        for parts, graph in graph_dataset:\n",
    "\n",
    "            # Feature 1: Frequency encoded graph using part_ids\n",
    "            part_ids_graph = graph.get_parts()\n",
    "            part_ids_graph = [int(part.get_part_id()) for part in part_ids_graph]\n",
    "            feature_graph = torch.zeros(graph_dataset.total_num_unique_parts, dtype=torch.float)\n",
    "            for part_id in part_ids_graph:\n",
    "                feature_graph[part_id] += 1\n",
    "\n",
    "            # Feature 2: One Hot encoding per Part + neighboring matrix kombiniert aufgebaut\n",
    "            edges = graph.get_edges()\n",
    "            for source_node, target_nodes in edges.items():\n",
    "                source_id = int(source_node.get_part().get_part_id())\n",
    "\n",
    "                # One-hot encode the source_id with pytorch tensors\n",
    "                feature_source_id = torch.zeros(graph_dataset.total_num_unique_parts, dtype=torch.float)\n",
    "                feature_source_id[source_id] = 1\n",
    "\n",
    "                target = torch.zeros(graph_dataset.total_num_unique_parts, dtype=torch.float)\n",
    "                for target_node in target_nodes:\n",
    "                    target_id = int(target_node.get_part().get_part_id())\n",
    "                    target[target_id] = 1\n",
    "\n",
    "                self.labels.append(target)\n",
    "                self.features.append(torch.cat([feature_graph, feature_source_id]))\n",
    "\n",
    "    def __len__(self):\n",
    "        return len(self.features)\n",
    "\n",
    "    def __getitem__(self, idx):\n",
    "        \"\"\"\n",
    "        Gibt die Features und das Label für den angegebenen Index zurück.\n",
    "        \"\"\"\n",
    "        return self.features[idx], self.labels[idx]\n"
   ],
   "outputs": [],
   "execution_count": 29
  },
  {
   "metadata": {},
   "cell_type": "markdown",
   "source": "# 3. Setup DataSets"
  },
  {
   "cell_type": "code",
   "metadata": {
    "ExecuteTime": {
     "end_time": "2025-01-25T17:03:34.869103Z",
     "start_time": "2025-01-25T17:03:31.022914Z"
    }
   },
   "source": [
    "training_set = GraphDataset(\"data/graphs.dat\", train = True, seed=SEED)\n",
    "validation_set = GraphDataset(\"data/graphs.dat\", validation = True, seed=SEED)\n",
    "testing_set = GraphDataset(\"data/graphs.dat\", test = True, seed=SEED)"
   ],
   "outputs": [],
   "execution_count": 30
  },
  {
   "metadata": {
    "ExecuteTime": {
     "end_time": "2025-01-25T17:03:39.527404Z",
     "start_time": "2025-01-25T17:03:36.306550Z"
    }
   },
   "cell_type": "code",
   "source": [
    "# Erstelle ein PartDataset aus deinem GraphDataset\n",
    "train_part_dataset = PartDataset(training_set)      # --> Länge 59275 alle parts in allen Graphen (Alle graph - PArtID combis)\n",
    "val_part_dataset = PartDataset(validation_set)\n",
    "\n",
    "training_set.graphs[0].draw()\n",
    "example_column = 0      # Max 59275\n",
    "\n",
    "print(\"Features: ---------------------\")\n",
    "print(len(train_part_dataset.features[0]))\n",
    "for i, part in enumerate(train_part_dataset.features[example_column]):\n",
    "    if i > output_dim and train_part_dataset.features[example_column][i].item() > 0:\n",
    "        print(i - output_dim, \"   \", train_part_dataset.features[example_column][i].item())\n",
    "\n",
    "print(\"Labels / Edges: ---------------\")\n",
    "for i, edge in enumerate(train_part_dataset.labels[example_column]):\n",
    "    if train_part_dataset.labels[example_column][i].item() > 0:\n",
    "        print(i, \"  \", train_part_dataset.labels[example_column][i].item())\n"
   ],
   "outputs": [
    {
     "data": {
      "text/plain": [
       "<Figure size 640x480 with 1 Axes>"
      ],
      "image/png": "[encoded data removed]"
     },
     "metadata": {},
     "output_type": "display_data"
    },
    {
     "name": "stdout",
     "output_type": "stream",
     "text": [
      "Features: ---------------------\n",
      "4542\n",
      "1240     1.0\n",
      "Labels / Edges: ---------------\n",
      "41    1.0\n",
      "163    1.0\n"
     ]
    }
   ],
   "execution_count": 31
  },
  {
   "metadata": {
    "ExecuteTime": {
     "end_time": "2025-01-25T17:03:41.792157Z",
     "start_time": "2025-01-25T17:03:41.779156Z"
    }
   },
   "cell_type": "code",
   "source": [
    "# Train part Dataset:\n",
    "print(len(train_part_dataset.features))\n",
    "print(len(train_part_dataset.features[0]))\n",
    "print(train_part_dataset.features[0])\n",
    "print(train_part_dataset.features[0][3].item())\n",
    "\n",
    "print(len(train_part_dataset.labels))\n",
    "print(len(train_part_dataset.labels[0]))\n",
    "print(train_part_dataset.labels[0])\n",
    "print(train_part_dataset.labels[0][3].item())"
   ],
   "outputs": [
    {
     "name": "stdout",
     "output_type": "stream",
     "text": [
      "59275\n",
      "4542\n",
      "tensor([0., 0., 0.,  ..., 0., 0., 0.])\n",
      "0.0\n",
      "59275\n",
      "2271\n",
      "tensor([0., 0., 0.,  ..., 0., 0., 0.])\n",
      "0.0\n"
     ]
    }
   ],
   "execution_count": 32
  },
  {
   "cell_type": "code",
   "metadata": {
    "ExecuteTime": {
     "end_time": "2025-01-25T17:03:48.716182Z",
     "start_time": "2025-01-25T17:03:48.560722Z"
    }
   },
   "source": [
    "# Print all Edges in Graph 0:\n",
    "for j in range(0,6):\n",
    "    for i, element in enumerate(train_part_dataset[j][0]):\n",
    "        if i >= (output_dim-1) and element >= 1:\n",
    "            print(f\"source -> part_id {i - output_dim}\")\n",
    "\n",
    "    # neighbours\n",
    "    for i, element in enumerate(train_part_dataset[j][1]):\n",
    "        if element > 0:\n",
    "            print(f\"target -> part_id {i}\")\n",
    "    \n",
    "    print(50*\"-\")"
   ],
   "outputs": [
    {
     "name": "stdout",
     "output_type": "stream",
     "text": [
      "source -> part_id 1240\n",
      "target -> part_id 41\n",
      "target -> part_id 163\n",
      "--------------------------------------------------\n",
      "source -> part_id 163\n",
      "target -> part_id 1240\n",
      "--------------------------------------------------\n",
      "source -> part_id 163\n",
      "target -> part_id 1240\n",
      "--------------------------------------------------\n",
      "source -> part_id 41\n",
      "target -> part_id 93\n",
      "target -> part_id 1240\n",
      "--------------------------------------------------\n",
      "source -> part_id 41\n",
      "target -> part_id 1240\n",
      "--------------------------------------------------\n",
      "source -> part_id 93\n",
      "target -> part_id 41\n",
      "--------------------------------------------------\n"
     ]
    }
   ],
   "execution_count": 34
  },
  {
   "cell_type": "markdown",
   "metadata": {},
   "source": [
    "# Neighbour Prediction\n",
    "\n",
    "Für jeden Part die wahrscheinlichsten Nachbarn vorhersagen"
   ]
  },
  {
   "cell_type": "markdown",
   "metadata": {},
   "source": "## Feedforward Neural Network"
  },
  {
   "metadata": {
    "ExecuteTime": {
     "end_time": "2025-01-25T21:00:16.828271Z",
     "start_time": "2025-01-25T21:00:16.805938Z"
    }
   },
   "cell_type": "code",
   "source": [
    "class FFNN(nn.Module):\n",
    "    def __init__(self, input_dim, hidden_dim, output_dim):\n",
    "        super(FFNN, self).__init__()\n",
    "        self.fc1 = nn.Linear(input_dim, hidden_dim)\n",
    "        self.fc2 = nn.Linear(hidden_dim, hidden_dim)\n",
    "        self.fc3 = nn.Linear(hidden_dim, output_dim)\n",
    "        self.sigmoid = nn.Sigmoid()\n",
    "        self._init_weights()\n",
    "\n",
    "    def _init_weights(self):\n",
    "        for layer in self.modules():\n",
    "            if isinstance(layer, nn.Linear):\n",
    "                nn.init.kaiming_normal_(layer.weight, nonlinearity='relu')\n",
    "                if layer.bias is not None:\n",
    "                    nn.init.zeros_(layer.bias)\n",
    "\n",
    "    def forward(self, x):\n",
    "        x = torch.relu(self.fc1(x))\n",
    "        x = torch.relu(self.fc2(x))\n",
    "        x = self.sigmoid(self.fc3(x))\n",
    "        return x\n",
    "\n",
    "    def train_ffnn(self, train_dataset, val_dataset, num_epochs, batch_size, learning_rate, device):\n",
    "\n",
    "        # Move model to device\n",
    "        self.to(device)\n",
    "\n",
    "        # Initialize criterion and optimizer\n",
    "        criterion = nn.BCELoss()\n",
    "        optimizer = optim.Adam(self.parameters(), lr=learning_rate)\n",
    "\n",
    "        # Prepare DataLoaders\n",
    "        train_loader = DataLoader(train_dataset, batch_size=batch_size, shuffle=True)\n",
    "        val_loader = DataLoader(val_dataset, batch_size=batch_size, shuffle=False)\n",
    "\n",
    "        # Document Losses:\n",
    "        train_losses = []\n",
    "        val_losses = []\n",
    "\n",
    "        for epoch in range(num_epochs):\n",
    "\n",
    "            # Training Phase:\n",
    "            self.train()\n",
    "            running_loss = 0.0\n",
    "\n",
    "            for batch_inputs, batch_labels in train_loader:\n",
    "                batch_inputs, batch_labels = batch_inputs.to(device), batch_labels.to(device)\n",
    "\n",
    "                optimizer.zero_grad()\n",
    "                outputs = self(batch_inputs)  # Forward pass\n",
    "                loss = criterion(outputs, batch_labels)  # Compute loss\n",
    "\n",
    "                # Backwards Pass and Update weights:\n",
    "                loss.backward()\n",
    "                optimizer.step()\n",
    "\n",
    "                running_loss += loss.item()\n",
    "\n",
    "            avg_train_loss = running_loss / len(train_loader)\n",
    "            train_losses.append(avg_train_loss)\n",
    "\n",
    "            # Validation Phase:\n",
    "            self.eval()\n",
    "            running_val_loss = 0.0\n",
    "            with torch.no_grad():\n",
    "                for val_inputs, val_targets in val_loader:\n",
    "                    val_inputs, val_targets = val_inputs.to(device), val_targets.to(device)\n",
    "                    val_outputs = self(val_inputs)  # Forward pass\n",
    "                    val_loss = criterion(val_outputs, val_targets)  # Compute loss\n",
    "                    running_val_loss += val_loss.item()\n",
    "\n",
    "            avg_val_loss = running_val_loss / len(val_loader)\n",
    "            val_losses.append(avg_val_loss)\n",
    "\n",
    "            # Print epoch summary\n",
    "            print(f\"Epoch [{epoch + 1}/{num_epochs}], Train Loss: {avg_train_loss}, Val Loss: {avg_val_loss}\")\n",
    "\n",
    "        return train_losses, val_losses\n"
   ],
   "outputs": [],
   "execution_count": 252
  },
  {
   "metadata": {
    "ExecuteTime": {
     "end_time": "2025-01-25T21:02:18.451570Z",
     "start_time": "2025-01-25T21:00:19.935886Z"
    }
   },
   "cell_type": "code",
   "source": [
    "# Initialize the model\n",
    "device = torch.device(\"cuda\" if torch.cuda.is_available() else \"cpu\")\n",
    "\n",
    "ffnn = FFNN(input_dim, hidden_dim, output_dim)\n",
    "\n",
    "# Train the model\n",
    "train_losses, val_losses = ffnn.train_ffnn(\n",
    "    train_dataset=train_part_dataset,\n",
    "    val_dataset=val_part_dataset,\n",
    "    num_epochs=num_epochs,\n",
    "    batch_size=batch_size,\n",
    "    learning_rate=learning_rate,\n",
    "    device=device\n",
    ")\n",
    "\n",
    "# Save the trained model\n",
    "file_path = \"ffnn_model.pth\"\n",
    "torch.save(ffnn.state_dict(), file_path)\n",
    "print(f\"Model saved to {file_path}\")"
   ],
   "outputs": [
    {
     "ename": "KeyboardInterrupt",
     "evalue": "",
     "output_type": "error",
     "traceback": [
      "\u001B[1;31m---------------------------------------------------------------------------\u001B[0m",
      "\u001B[1;31mKeyboardInterrupt\u001B[0m                         Traceback (most recent call last)",
      "Cell \u001B[1;32mIn[253], line 7\u001B[0m\n\u001B[0;32m      4\u001B[0m ffnn \u001B[38;5;241m=\u001B[39m FFNN(input_dim, hidden_dim, output_dim)\n\u001B[0;32m      6\u001B[0m \u001B[38;5;66;03m# Train the model\u001B[39;00m\n\u001B[1;32m----> 7\u001B[0m train_losses, val_losses \u001B[38;5;241m=\u001B[39m \u001B[43mffnn\u001B[49m\u001B[38;5;241;43m.\u001B[39;49m\u001B[43mtrain_ffnn\u001B[49m\u001B[43m(\u001B[49m\n\u001B[0;32m      8\u001B[0m \u001B[43m    \u001B[49m\u001B[43mtrain_dataset\u001B[49m\u001B[38;5;241;43m=\u001B[39;49m\u001B[43mtrain_part_dataset\u001B[49m\u001B[43m,\u001B[49m\n\u001B[0;32m      9\u001B[0m \u001B[43m    \u001B[49m\u001B[43mval_dataset\u001B[49m\u001B[38;5;241;43m=\u001B[39;49m\u001B[43mval_part_dataset\u001B[49m\u001B[43m,\u001B[49m\n\u001B[0;32m     10\u001B[0m \u001B[43m    \u001B[49m\u001B[43mnum_epochs\u001B[49m\u001B[38;5;241;43m=\u001B[39;49m\u001B[43mnum_epochs\u001B[49m\u001B[43m,\u001B[49m\n\u001B[0;32m     11\u001B[0m \u001B[43m    \u001B[49m\u001B[43mbatch_size\u001B[49m\u001B[38;5;241;43m=\u001B[39;49m\u001B[43mbatch_size\u001B[49m\u001B[43m,\u001B[49m\n\u001B[0;32m     12\u001B[0m \u001B[43m    \u001B[49m\u001B[43mlearning_rate\u001B[49m\u001B[38;5;241;43m=\u001B[39;49m\u001B[43mlearning_rate\u001B[49m\u001B[43m,\u001B[49m\n\u001B[0;32m     13\u001B[0m \u001B[43m    \u001B[49m\u001B[43mdevice\u001B[49m\u001B[38;5;241;43m=\u001B[39;49m\u001B[43mdevice\u001B[49m\n\u001B[0;32m     14\u001B[0m \u001B[43m)\u001B[49m\n\u001B[0;32m     16\u001B[0m \u001B[38;5;66;03m# Save the trained model\u001B[39;00m\n\u001B[0;32m     17\u001B[0m file_path \u001B[38;5;241m=\u001B[39m \u001B[38;5;124m\"\u001B[39m\u001B[38;5;124mffnn_model.pth\u001B[39m\u001B[38;5;124m\"\u001B[39m\n",
      "Cell \u001B[1;32mIn[252], line 54\u001B[0m, in \u001B[0;36mFFNN.train_ffnn\u001B[1;34m(self, train_dataset, val_dataset, num_epochs, batch_size, learning_rate, device)\u001B[0m\n\u001B[0;32m     51\u001B[0m loss \u001B[38;5;241m=\u001B[39m criterion(outputs, batch_labels)  \u001B[38;5;66;03m# Compute loss\u001B[39;00m\n\u001B[0;32m     53\u001B[0m \u001B[38;5;66;03m# Backwards Pass and Update weights:\u001B[39;00m\n\u001B[1;32m---> 54\u001B[0m \u001B[43mloss\u001B[49m\u001B[38;5;241;43m.\u001B[39;49m\u001B[43mbackward\u001B[49m\u001B[43m(\u001B[49m\u001B[43m)\u001B[49m\n\u001B[0;32m     55\u001B[0m optimizer\u001B[38;5;241m.\u001B[39mstep()\n\u001B[0;32m     57\u001B[0m running_loss \u001B[38;5;241m+\u001B[39m\u001B[38;5;241m=\u001B[39m loss\u001B[38;5;241m.\u001B[39mitem()\n",
      "File \u001B[1;32m~\\miniconda3\\envs\\ai-project\\lib\\site-packages\\torch\\_tensor.py:521\u001B[0m, in \u001B[0;36mTensor.backward\u001B[1;34m(self, gradient, retain_graph, create_graph, inputs)\u001B[0m\n\u001B[0;32m    511\u001B[0m \u001B[38;5;28;01mif\u001B[39;00m has_torch_function_unary(\u001B[38;5;28mself\u001B[39m):\n\u001B[0;32m    512\u001B[0m     \u001B[38;5;28;01mreturn\u001B[39;00m handle_torch_function(\n\u001B[0;32m    513\u001B[0m         Tensor\u001B[38;5;241m.\u001B[39mbackward,\n\u001B[0;32m    514\u001B[0m         (\u001B[38;5;28mself\u001B[39m,),\n\u001B[1;32m   (...)\u001B[0m\n\u001B[0;32m    519\u001B[0m         inputs\u001B[38;5;241m=\u001B[39minputs,\n\u001B[0;32m    520\u001B[0m     )\n\u001B[1;32m--> 521\u001B[0m \u001B[43mtorch\u001B[49m\u001B[38;5;241;43m.\u001B[39;49m\u001B[43mautograd\u001B[49m\u001B[38;5;241;43m.\u001B[39;49m\u001B[43mbackward\u001B[49m\u001B[43m(\u001B[49m\n\u001B[0;32m    522\u001B[0m \u001B[43m    \u001B[49m\u001B[38;5;28;43mself\u001B[39;49m\u001B[43m,\u001B[49m\u001B[43m \u001B[49m\u001B[43mgradient\u001B[49m\u001B[43m,\u001B[49m\u001B[43m \u001B[49m\u001B[43mretain_graph\u001B[49m\u001B[43m,\u001B[49m\u001B[43m \u001B[49m\u001B[43mcreate_graph\u001B[49m\u001B[43m,\u001B[49m\u001B[43m \u001B[49m\u001B[43minputs\u001B[49m\u001B[38;5;241;43m=\u001B[39;49m\u001B[43minputs\u001B[49m\n\u001B[0;32m    523\u001B[0m \u001B[43m\u001B[49m\u001B[43m)\u001B[49m\n",
      "File \u001B[1;32m~\\miniconda3\\envs\\ai-project\\lib\\site-packages\\torch\\autograd\\__init__.py:289\u001B[0m, in \u001B[0;36mbackward\u001B[1;34m(tensors, grad_tensors, retain_graph, create_graph, grad_variables, inputs)\u001B[0m\n\u001B[0;32m    284\u001B[0m     retain_graph \u001B[38;5;241m=\u001B[39m create_graph\n\u001B[0;32m    286\u001B[0m \u001B[38;5;66;03m# The reason we repeat the same comment below is that\u001B[39;00m\n\u001B[0;32m    287\u001B[0m \u001B[38;5;66;03m# some Python versions print out the first line of a multi-line function\u001B[39;00m\n\u001B[0;32m    288\u001B[0m \u001B[38;5;66;03m# calls in the traceback and some print out the last line\u001B[39;00m\n\u001B[1;32m--> 289\u001B[0m \u001B[43m_engine_run_backward\u001B[49m\u001B[43m(\u001B[49m\n\u001B[0;32m    290\u001B[0m \u001B[43m    \u001B[49m\u001B[43mtensors\u001B[49m\u001B[43m,\u001B[49m\n\u001B[0;32m    291\u001B[0m \u001B[43m    \u001B[49m\u001B[43mgrad_tensors_\u001B[49m\u001B[43m,\u001B[49m\n\u001B[0;32m    292\u001B[0m \u001B[43m    \u001B[49m\u001B[43mretain_graph\u001B[49m\u001B[43m,\u001B[49m\n\u001B[0;32m    293\u001B[0m \u001B[43m    \u001B[49m\u001B[43mcreate_graph\u001B[49m\u001B[43m,\u001B[49m\n\u001B[0;32m    294\u001B[0m \u001B[43m    \u001B[49m\u001B[43minputs\u001B[49m\u001B[43m,\u001B[49m\n\u001B[0;32m    295\u001B[0m \u001B[43m    \u001B[49m\u001B[43mallow_unreachable\u001B[49m\u001B[38;5;241;43m=\u001B[39;49m\u001B[38;5;28;43;01mTrue\u001B[39;49;00m\u001B[43m,\u001B[49m\n\u001B[0;32m    296\u001B[0m \u001B[43m    \u001B[49m\u001B[43maccumulate_grad\u001B[49m\u001B[38;5;241;43m=\u001B[39;49m\u001B[38;5;28;43;01mTrue\u001B[39;49;00m\u001B[43m,\u001B[49m\n\u001B[0;32m    297\u001B[0m \u001B[43m\u001B[49m\u001B[43m)\u001B[49m\n",
      "File \u001B[1;32m~\\miniconda3\\envs\\ai-project\\lib\\site-packages\\torch\\autograd\\graph.py:769\u001B[0m, in \u001B[0;36m_engine_run_backward\u001B[1;34m(t_outputs, *args, **kwargs)\u001B[0m\n\u001B[0;32m    767\u001B[0m     unregister_hooks \u001B[38;5;241m=\u001B[39m _register_logging_hooks_on_whole_graph(t_outputs)\n\u001B[0;32m    768\u001B[0m \u001B[38;5;28;01mtry\u001B[39;00m:\n\u001B[1;32m--> 769\u001B[0m     \u001B[38;5;28;01mreturn\u001B[39;00m \u001B[43mVariable\u001B[49m\u001B[38;5;241;43m.\u001B[39;49m\u001B[43m_execution_engine\u001B[49m\u001B[38;5;241;43m.\u001B[39;49m\u001B[43mrun_backward\u001B[49m\u001B[43m(\u001B[49m\u001B[43m  \u001B[49m\u001B[38;5;66;43;03m# Calls into the C++ engine to run the backward pass\u001B[39;49;00m\n\u001B[0;32m    770\u001B[0m \u001B[43m        \u001B[49m\u001B[43mt_outputs\u001B[49m\u001B[43m,\u001B[49m\u001B[43m \u001B[49m\u001B[38;5;241;43m*\u001B[39;49m\u001B[43margs\u001B[49m\u001B[43m,\u001B[49m\u001B[43m \u001B[49m\u001B[38;5;241;43m*\u001B[39;49m\u001B[38;5;241;43m*\u001B[39;49m\u001B[43mkwargs\u001B[49m\n\u001B[0;32m    771\u001B[0m \u001B[43m    \u001B[49m\u001B[43m)\u001B[49m  \u001B[38;5;66;03m# Calls into the C++ engine to run the backward pass\u001B[39;00m\n\u001B[0;32m    772\u001B[0m \u001B[38;5;28;01mfinally\u001B[39;00m:\n\u001B[0;32m    773\u001B[0m     \u001B[38;5;28;01mif\u001B[39;00m attach_logging_hooks:\n",
      "\u001B[1;31mKeyboardInterrupt\u001B[0m: "
     ]
    }
   ],
   "execution_count": 253
  },
  {
   "metadata": {},
   "cell_type": "markdown",
   "source": "## Evaluate FNN Performance"
  },
  {
   "cell_type": "code",
   "metadata": {
    "ExecuteTime": {
     "end_time": "2025-01-25T20:14:55.028747Z",
     "start_time": "2025-01-25T20:14:54.979674Z"
    }
   },
   "source": [
    "for i, el in enumerate(train_part_dataset[0][0]):\n",
    "    if el >= 1:\n",
    "        print(i, el)\n",
    "\n",
    "output = ffnn(train_part_dataset.features[2389].to(device))\n",
    "target = train_part_dataset.labels[2389]\n",
    "\n",
    "probs = ffnn(train_part_dataset[6][0].to(device))\n",
    "probs.max()\n",
    "\n",
    "print(\"-----------\")\n",
    "for i in range(0, output_dim):\n",
    "    if target[i].item() > 0:\n",
    "        print(i, target[i].item(), \"  ---  \", output[i].item())\n",
    "    if output[i].item() > 0.5:\n",
    "        print(i, target[i].item(), \"  ---  \", output[i].item())"
   ],
   "outputs": [
    {
     "name": "stdout",
     "output_type": "stream",
     "text": [
      "41 tensor(2.)\n",
      "93 tensor(1.)\n",
      "163 tensor(2.)\n",
      "1240 tensor(1.)\n",
      "3511 tensor(1.)\n",
      "-----------\n",
      "160 1.0   ---   0.9999997615814209\n",
      "160 1.0   ---   0.9999997615814209\n"
     ]
    }
   ],
   "execution_count": 185
  },
  {
   "metadata": {},
   "cell_type": "markdown",
   "source": "## Visualize"
  },
  {
   "metadata": {},
   "cell_type": "code",
   "outputs": [
    {
     "name": "stdout",
     "output_type": "stream",
     "text": [
      "Training complete!\n"
     ]
    },
    {
     "data": {
      "image/png": "[encoded data removed]",
      "text/plain": [
       "<Figure size 2000x400 with 3 Axes>"
      ]
     },
     "metadata": {},
     "output_type": "display_data"
    }
   ],
   "execution_count": 14,
   "source": [
    "from matplotlib.ticker import FuncFormatter #TODO: LÖSCHEN\n",
    "\n",
    "fig, (ax1, ax2, ax3) = plt.subplots(nrows=1, ncols=3, figsize=(20, 4))\n",
    "\n",
    "ax1.set(xlabel='#Epochs', ylabel='Loss')\n",
    "fig.suptitle('Learning Progress')\n",
    "ax1.plot(train_losses_part, label=\"Training Loss\")\n",
    "ax1.plot(val_losses_part, label=\"Validation Loss\")\n",
    "ax1.legend()\n",
    "\n",
    "ax2.set(xlabel='#Epochs', ylabel='Accuracy')\n",
    "ax2.plot(train_accuracies_part, label=\"Train Accuracy\")\n",
    "ax2.plot(val_accuracies_part, label=\"Validation Accuracy\")\n",
    "ax2.legend()\n",
    "ax2.yaxis.set_major_formatter(FuncFormatter(lambda y, _: '{:.2%}'.format(y)))\n",
    "\n",
    "real_validation_errors = [1.0 - (train_accuracy + abs(val_accuracy - train_accuracy)) for train_accuracy, val_accuracy in zip(train_accuracies_part,val_accuracies_part)]\n",
    "ax3.set(xlabel='#Epochs', ylabel='Real Val Error (e_train + |e_val - e_train|)')\n",
    "ax3.plot(real_validation_errors)\n",
    "ax3.yaxis.set_major_formatter(FuncFormatter(lambda y, _: '{:.2%}'.format(y)))\n",
    "\n",
    "\n",
    "\n",
    "print(\"Training complete!\")\n",
    "# print(result_list)\n",
    "\n",
    "#TODO: Modell speichern!!!\n",
    "# torch.save(model.state_dict(), \"neighbor_prediction_model.pth\")\n"
   ]
  },
  {
   "cell_type": "markdown",
   "metadata": {},
   "source": [
    "## Jonas Graph Prediction\n",
    "\n",
    "Nachdem wir nun eine Möglichkeit haben, pro Knoten/Part die Wahrscheinlichkeit für den/die direkten Nachbarn zu berechnen, müssen wir daraus nur noch den Gaphen zusammenbauen"
   ]
  },
  {
   "cell_type": "code",
   "metadata": {
    "ExecuteTime": {
     "end_time": "2025-01-25T17:04:10.210844Z",
     "start_time": "2025-01-25T17:04:10.194844Z"
    }
   },
   "source": [
    "class GraphPrediction(MyPredictionModel):\n",
    "    def __init__(self, model, dataset):\n",
    "        self.model = model\n",
    "        self.dataset = dataset\n",
    "        self.total_global_part_to_idx = dataset.total_global_part_to_idx  # PartID -> Index mapping\n",
    "    \n",
    "    def predict_graph(self, parts: Set[Part]) -> Graph:\n",
    "        '''We get a set of parts and build a fully connected graph out of this. The edges are given a weight obtained from the model.\n",
    "        Then we want to minimize the fully connected graph to a graph with the fewest edges possible. \n",
    "        We do this by only keeping the edges with the highest weights. This is the same as keeping the minimal 1-weight edges.\n",
    "        This can be done by getting the minimal spanning tree of the graph. \n",
    "        '''\n",
    "\n",
    "        # ich sortiere die Parts nach ihrer ID\n",
    "        parts = sorted(parts, key=lambda part: int(part.get_part_id()))\n",
    "        parts = list(parts)\n",
    "\n",
    "        # ich encode die parts -> \n",
    "        part_frequency_tensor = self.dataset.frequency_encoding(parts)\n",
    "        predicted_neighbours = []\n",
    "        for part in parts:\n",
    "            one_hot_encoded = self.dataset.one_hot_encoding(part)\n",
    "            combined_tensor = torch.cat((part_frequency_tensor, one_hot_encoded), dim=0)\n",
    "            # ich setze die parts in mein Modell ein und erhalte dann eine Matrix mit den Wahrscheinlichkeiten der Kanten\n",
    "            neighbour_prediction = ffnn(combined_tensor.to(device))\n",
    "            # print(f\"neighbour_prediction max: {neighbour_prediction.max()}\")\n",
    "            predicted_neighbours.append(neighbour_prediction)\n",
    "        \n",
    "        # cast to tensor\n",
    "        predicted_neighbours = torch.stack(predicted_neighbours) # with global mapping of part ids\n",
    "\n",
    "        # print(f\"MAX {predicted_neighbours.max()}\")\n",
    "\n",
    "        # TODO: GLOBAL MAPPING FOR PART IDS\n",
    "        # erstelle einen fully connected graph\n",
    "        fully_connected_graph = self.build_graph_with_weights(parts, predicted_neighbours) \n",
    "        # self.draw_tree(fully_connected_graph)\n",
    "\n",
    "        # erstelle einen minimal spanning tree\n",
    "        minimal_spanning_tree = self.build_minimum_spanning_tree(fully_connected_graph)\n",
    "        # self.draw_tree(minimal_spanning_tree)\n",
    "\n",
    "        # self.draw_tree(minimal_spanning_tree, title=\"Minimum Spanning Tree\")\n",
    "\n",
    "        predicted_graph = self.convert_nx_graph_to_custom_graph(minimal_spanning_tree, parts)\n",
    "\n",
    "        # predicted_graph.draw()\n",
    "\n",
    "        return predicted_graph\n",
    "\n",
    "\n",
    "    # Angenommen: parts ist eine Liste der Eingabe-Parts mit Länge 6\n",
    "    # Angenommen: predicted_neighbours ist die 6 x 1089 Tensor-Matrix mit den Wahrscheinlichkeiten\n",
    "    # predicted_neighbours[i][j] = Wahrscheinlichkeit, dass Part i mit Part j verbunden ist\n",
    "    def convert_nx_graph_to_custom_graph(self, nx_graph, parts):\n",
    "        # TODO: DOPPELTE PARTS WERDEN NUR EINMAL HINZUGEFÜGT\n",
    "        #TODO: GLOBAL MAPPING FOR PART IDS\n",
    "        custom_graph = Graph()\n",
    "        \n",
    "        # Add edges (undirected) to the custom graph\n",
    "\n",
    "        for u, v, edge_data in nx_graph.edges(data=True):\n",
    "            # Extract the global IDs for the nodes (u and v)\n",
    "            index_source = int(u.split('-')[1])  # Extract Index in parts list  from \"Part-{i}-{part_id}\" format\n",
    "            index_target = int(v.split('-')[1])  # Extract Index in parts list from \"Part-{j}-{part_id}\" format\n",
    "            \n",
    "            # Add an undirected edge between the two Parts\n",
    "            custom_graph.add_undirected_edge(parts[index_source], parts[index_target])\n",
    "            # custom_graph.draw()\n",
    "        \n",
    "        return custom_graph\n",
    "\n",
    "\n",
    "    def build_graph_with_weights(self, parts, predicted_neighbours):\n",
    "        # TODO: global mapping for parts is missing - for predicted_neighbours it is implemented\n",
    "        G = nx.Graph()  # Create an undirected graph\n",
    "\n",
    "        # Add all parts as nodes with unique identifiers\n",
    "        for i, part in enumerate(parts):\n",
    "            G.add_node(f\"Part-{i}-{part.get_part_id()}\", part=part)\n",
    "\n",
    "        # Add edges between the nodes (only for input parts)\n",
    "        for i, part in enumerate(parts):\n",
    "            for j, other_part in enumerate(parts):\n",
    "                if i != j:  # Avoid self-loops\n",
    "                    weight = 1 - predicted_neighbours[i][j].item()  # Convert probability to distance\n",
    "                    # Add an edge between the nodes with the computed weight\n",
    "                    G.add_edge(f\"Part-{i}-{part.get_part_id()}\", f\"Part-{j}-{other_part.get_part_id()}\", weight=weight)\n",
    "\n",
    "        return G\n",
    "\n",
    "    def build_minimum_spanning_tree(self, graph):\n",
    "        # Compute the Minimum Spanning Tree (MST)\n",
    "        mst = nx.minimum_spanning_tree(graph, weight=\"weight\")\n",
    "        # self.draw_tree(mst)\n",
    "        return mst\n",
    "\n",
    "\n",
    "    def draw_tree(self, tree, title=\"Minimum Spanning Tree\"):\n",
    "        # Generate layout positions for the tree (spring layout works well for small graphs)\n",
    "        pos = nx.spring_layout(tree)  # You can use other layouts like nx.kamada_kawai_layout(tree)\n",
    "\n",
    "        # Draw the graph\n",
    "        plt.figure(figsize=(10, 8))\n",
    "        nx.draw(tree, pos, with_labels=True, node_size=500, font_size=10, node_color=\"skyblue\", edge_color=\"gray\")\n",
    "\n",
    "        # Draw edge weights\n",
    "        edge_labels = nx.get_edge_attributes(tree, 'weight')\n",
    "        nx.draw_networkx_edge_labels(tree, pos, edge_labels=edge_labels, font_size=9)\n",
    "\n",
    "        # Add a title\n",
    "        plt.title(title)\n",
    "        plt.show()"
   ],
   "outputs": [],
   "execution_count": 37
  },
  {
   "metadata": {},
   "cell_type": "markdown",
   "source": "# Graph Builder"
  },
  {
   "metadata": {},
   "cell_type": "markdown",
   "source": "Nachdem wir nun eine Möglichkeit haben, pro Knoten/Part die Wahrscheinlichkeit für den/die direkten Nachbarn zu berechnen, müssen wir daraus nur noch den Gaphen zusammenbauen"
  },
  {
   "metadata": {
    "ExecuteTime": {
     "end_time": "2025-01-25T20:45:49.555971Z",
     "start_time": "2025-01-25T20:45:49.533078Z"
    }
   },
   "cell_type": "code",
   "source": [
    "import networkx as nx\n",
    "\n",
    "\n",
    "class GraphBuilder(MyPredictionModel):\n",
    "    def __init__(self):\n",
    "        super().__init__()\n",
    "        self.model = None\n",
    "\n",
    "    def load_model(self, input_dim, hidden_dim, output_dim, file_path: str) -> MyPredictionModel:\n",
    "\n",
    "        # Ensure the model is initialized with the same architecture\n",
    "        model = FFNN(input_dim=input_dim, hidden_dim=hidden_dim, output_dim=output_dim)\n",
    "\n",
    "        # Load the saved state_dict with weights_only=True for security\n",
    "        state_dict = torch.load(file_path, weights_only=True)\n",
    "        model.load_state_dict(state_dict)\n",
    "\n",
    "        # Set the model to evaluation mode (important for inference)\n",
    "        model.eval()\n",
    "\n",
    "        # Store it in the class instance\n",
    "        self.model = model\n",
    "        return model\n",
    "\n",
    "    def predict_graph(self, parts: Set[Part]) -> Graph:\n",
    "\n",
    "        # 41, 41, 93, 163, 163, 1240\n",
    "        part_ids = []\n",
    "        for part in parts:\n",
    "            part_ids.append(part.get_part_id())\n",
    "\n",
    "        # Generate Probability Matrix:\n",
    "        output_matrix = self.__query_probabilities(part_ids)\n",
    "\n",
    "        # Convert the output_matrix to a dictionary\n",
    "        probabilities_dict = {}             # probabilities_dict[source][target]\n",
    "        for i, part_id in enumerate(part_ids):\n",
    "            column_probabilities = output_matrix[:, i]\n",
    "            probabilities_dict[part_id] = {row_idx: column_probabilities[row_idx].item() for row_idx in range(output_matrix.size(0))}\n",
    "\n",
    "        # print(\"Hier die Probability---------\", probabilities_dict)\n",
    "\n",
    "        # Build up the Graph:\n",
    "        predicted_graph = self.__build_predicted_graph(parts, probabilities_dict)\n",
    "\n",
    "        return predicted_graph\n",
    "\n",
    "    def __query_probabilities(self, part_ids: list):\n",
    "\n",
    "        # Generate Frequency Encoding:\n",
    "        frequency_vector = torch.zeros(output_dim, dtype=torch.float32)\n",
    "        for part_id in part_ids:\n",
    "            frequency_vector[int(part_id)] += 1\n",
    "\n",
    "        # Initialize a tensor to hold the outputs (2271 rows, 6 columns)\n",
    "        output_matrix = torch.zeros(output_dim, len(part_ids), dtype=torch.float32)  # Shape: (2271, 6)\n",
    "\n",
    "        # Generate One Hot Encoding and combined Vector:\n",
    "        for i, part_id in enumerate(part_ids):\n",
    "            one_hot_vector = torch.zeros(output_dim, dtype=torch.float32) # Initialize a zero vector for one-hot encoding\n",
    "            one_hot_vector[int(part_id)] = 1.0                      # Set the part_id index to 1\n",
    "            combined_vector = torch.cat([frequency_vector, one_hot_vector], dim=0)\n",
    "\n",
    "            # Query Model\n",
    "            model_output_per_part = ffnn(combined_vector.unsqueeze(0))\n",
    "\n",
    "            # Squeeze the output and assign it to the corresponding column in the matrix\n",
    "            output_matrix[:, i] = model_output_per_part.squeeze(0).cpu()\n",
    "\n",
    "        return output_matrix\n",
    "\n",
    "    # Function to create the predicted graph\n",
    "    def __build_predicted_graph(self, parts: list, edge_probabilities: dict) -> Graph:\n",
    "\n",
    "        # Initialize Empty Graph with parts\n",
    "        G = self.__create_empty_graph(parts)\n",
    "\n",
    "        for source_node in G.nodes:\n",
    "            for target_node in G.nodes:\n",
    "                if source_node == target_node:\n",
    "                    continue\n",
    "                source_id = source_node.get_part_id()\n",
    "                target_id = int(target_node.get_part_id())\n",
    "                edge_prob = edge_probabilities[source_id].get(target_id, 0)\n",
    "\n",
    "                # Add edges\n",
    "                weight = 1 - edge_prob\n",
    "                G.add_edge(source_node, target_node, weight=weight)\n",
    "\n",
    "        # Minimum spanning Tree\n",
    "        mst = nx.minimum_spanning_tree(G)\n",
    "\n",
    "        # Build graph\n",
    "        predicted_graph = Graph()\n",
    "        for edge in mst.edges():\n",
    "            predicted_graph.add_undirected_edge(edge[0], edge[1])\n",
    "\n",
    "        return predicted_graph\n",
    "\n",
    "    def __create_empty_graph(self, parts: Set[Part]) -> Graph:\n",
    "        graph = nx.Graph()\n",
    "        graph.add_nodes_from(parts)\n",
    "        return graph\n",
    "\n",
    "    def draw_tree(self, tree, title=\"Minimum Spanning Tree\"):\n",
    "        # Generate layout positions for the tree (spring layout works well for small graphs)\n",
    "        pos = nx.spring_layout(tree)  # You can use other layouts like nx.kamada_kawai_layout(tree)\n",
    "\n",
    "        # Draw the graph\n",
    "        plt.figure(figsize=(10, 8))\n",
    "        nx.draw(tree, pos, with_labels=True, node_size=500, font_size=10, node_color=\"skyblue\", edge_color=\"gray\")\n",
    "\n",
    "        # Draw edge weights\n",
    "        edge_labels = nx.get_edge_attributes(tree, 'weight')\n",
    "        nx.draw_networkx_edge_labels(tree, pos, edge_labels=edge_labels, font_size=9)\n",
    "\n",
    "        # Add a title\n",
    "        plt.title(title)\n",
    "        plt.show()"
   ],
   "outputs": [],
   "execution_count": 246
  },
  {
   "metadata": {
    "ExecuteTime": {
     "end_time": "2025-01-25T20:45:52.787572Z",
     "start_time": "2025-01-25T20:45:52.671276Z"
    }
   },
   "cell_type": "code",
   "source": [
    "# Create TestSet:\n",
    "example_parts_set1 = set()  # Correct initialization of a set\n",
    "example_parts_set1.add(Part(part_id='41', family_id=24))\n",
    "example_parts_set1.add(Part(part_id='41', family_id=24))\n",
    "example_parts_set1.add(Part(part_id='93', family_id=15))\n",
    "example_parts_set1.add(Part(part_id='163', family_id=23))\n",
    "example_parts_set1.add(Part(part_id='163', family_id=23))\n",
    "example_parts_set1.add(Part(part_id='1240', family_id=0))\n",
    "\n",
    "\"\"\"example_parts_set2 = set()  # Correct initialization of a set\n",
    "example_parts_set2.add(Part(part_id='83', family_id=24))\n",
    "example_parts_set2.add(Part(part_id='359', family_id=15))\n",
    "example_parts_set2.add(Part(part_id='77', family_id=23))\n",
    "example_parts_set2.add(Part(part_id='82', family_id=24))\n",
    "example_parts_set2.add(Part(part_id='82', family_id=15))\n",
    "example_parts_set2.add(Part(part_id='58', family_id=0))\n",
    "example_parts_set2.add(Part(part_id='121', family_id=12))\n",
    "example_parts_set2.add(Part(part_id='35', family_id=6))\n",
    "example_parts_set2.add(Part(part_id='747', family_id=33))\n",
    "example_parts_set2.add(Part(part_id='58', family_id=0))\"\"\"\n",
    "\n",
    "# Setup Graph Builder:\n",
    "model_path = \"ffnn_model.pth\"\n",
    "graphbuilder = GraphBuilder()\n",
    "graphbuilder.load_model(input_dim, hidden_dim, output_dim, model_path)\n",
    "\n",
    "graph = graphbuilder.predict_graph(example_parts_set1)"
   ],
   "outputs": [],
   "execution_count": 247
  },
  {
   "metadata": {},
   "cell_type": "markdown",
   "source": "## Testing with the GraphBuilder"
  },
  {
   "metadata": {
    "ExecuteTime": {
     "end_time": "2025-01-25T20:10:13.051759Z",
     "start_time": "2025-01-25T20:10:13.029855Z"
    }
   },
   "cell_type": "code",
   "source": [
    "testing_list = []\n",
    "for parts, graph in testing_set:\n",
    "    tuple = (parts, graph)\n",
    "    testing_list.append(tuple)"
   ],
   "outputs": [],
   "execution_count": 181
  },
  {
   "metadata": {
    "ExecuteTime": {
     "end_time": "2025-01-25T20:48:28.000078Z",
     "start_time": "2025-01-25T20:45:55.370118Z"
    }
   },
   "cell_type": "code",
   "source": [
    "from evaluation import evaluate\n",
    "\n",
    "builder = GraphBuilder()\n",
    "graphbuilder.load_model(input_dim, hidden_dim, output_dim, model_path)\n",
    "accuracy = evaluate(builder, testing_list)\n",
    "print(\"Accuracy of NeighbourGraphPredictionModel: \", accuracy)"
   ],
   "outputs": [
    {
     "name": "stdout",
     "output_type": "stream",
     "text": [
      "Accuracy of NeighbourGraphPredictionModel:  96.75999608781086\n"
     ]
    }
   ],
   "execution_count": 248
  }
 ],
 "metadata": {
  "kernelspec": {
   "display_name": "ai-project",
   "language": "python",
   "name": "python3"
  },
  "language_info": {
   "codemirror_mode": {
    "name": "ipython",
    "version": 3
   },
   "file_extension": ".py",
   "mimetype": "text/x-python",
   "name": "python",
   "nbconvert_exporter": "python",
   "pygments_lexer": "ipython3",
   "version": "3.8.18"
  }
 },
 "nbformat": 4,
 "nbformat_minor": 2
}
