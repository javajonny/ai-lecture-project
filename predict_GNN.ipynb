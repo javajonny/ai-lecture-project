{
 "cells": [
  {
   "metadata": {},
   "cell_type": "markdown",
   "source": "# 0. Setup",
   "id": "4bab6b536a3bbf30"
  },
  {
   "metadata": {},
   "cell_type": "markdown",
   "source": "## 0.1. Imports",
   "id": "7c710cb31efc22bf"
  },
  {
   "metadata": {
    "ExecuteTime": {
     "end_time": "2025-01-23T17:58:40.784192Z",
     "start_time": "2025-01-23T17:58:40.768700Z"
    }
   },
   "cell_type": "code",
   "source": [
    "import os\n",
    "import random\n",
    "import torch\n",
    "\n",
    "from torch_geometric.data import Data\n",
    "from torch_geometric.nn import GCNConv, GAE\n",
    "from torch_geometric.loader import DataLoader\n",
    "from torch.utils.data import Dataset\n",
    "import torch.optim as optim\n",
    "from graph_loader import load_graphs\n",
    "from gensim.models import Word2Vec\n",
    "from itertools import combinations"
   ],
   "id": "b88072654c65be9f",
   "outputs": [],
   "execution_count": 330
  },
  {
   "metadata": {},
   "cell_type": "markdown",
   "source": "## 0.2. Hyperparameters",
   "id": "afc9709f816531d7"
  },
  {
   "metadata": {
    "ExecuteTime": {
     "end_time": "2025-01-23T17:48:21.816409Z",
     "start_time": "2025-01-23T17:48:21.805404Z"
    }
   },
   "cell_type": "code",
   "source": [
    "SEED = 0\n",
    "random.seed(SEED)\n",
    "\n",
    "example_graph = 2\n",
    "\n",
    "# Random Walks:\n",
    "num_walks = 25\n",
    "walk_length = 7\n",
    "\n",
    "# Embedding model:\n",
    "embedding_vector_size=16    # Size of the embedding vector\n",
    "window=5                    # Context window size --> Wie viele Wörter außenherum werden beachtet? --> ca. 5, da Durchscnittliche größe der Graphen (Entscheidung von 2 auf 5 machte Unterschied)\n",
    "min_count=1                 # Minimum occurrences of a node in the walks to include it in the vocabulary\n",
    "sg=1                        # Use Skip-Gram (sg=1) instead of CBOW (sg=0)\n",
    "workers=4                   # Number of CPU threads to use\n",
    "embedding_model_epochs=50   # Number of training epochs\n",
    "\n",
    "# GAE model:\n",
    "learning_rate = 0.01\n",
    "input_dim = embedding_vector_size          # Dimension of node embeddings (from Word2Vec)\n",
    "hidden_dim = 32\n",
    "latent_dim = 16\n",
    "gae_epochs = 100"
   ],
   "id": "e795ef594aee2df0",
   "outputs": [],
   "execution_count": 311
  },
  {
   "metadata": {},
   "cell_type": "markdown",
   "source": "# 1 Process Training Data",
   "id": "f84849ab31f720e4"
  },
  {
   "metadata": {},
   "cell_type": "markdown",
   "source": "## 1.1 Helper Functions",
   "id": "696147c6aa69831b"
  },
  {
   "metadata": {
    "ExecuteTime": {
     "end_time": "2025-01-23T17:48:23.906266Z",
     "start_time": "2025-01-23T17:48:23.901268Z"
    }
   },
   "cell_type": "code",
   "source": [
    "def create_part_list(graph):\n",
    "    part_list = []\n",
    "    nodes = graph.get_nodes()\n",
    "    for node in nodes:\n",
    "        part_list.append((node.get_id(), node.get_part().get_part_id()))\n",
    "    return part_list"
   ],
   "id": "fcc31631b6e6226b",
   "outputs": [],
   "execution_count": 312
  },
  {
   "metadata": {
    "ExecuteTime": {
     "end_time": "2025-01-23T17:48:25.389701Z",
     "start_time": "2025-01-23T17:48:25.376701Z"
    }
   },
   "cell_type": "code",
   "source": [
    "def create_edge_list(graph):\n",
    "    edge_set = set()\n",
    "    edges = graph.get_edges()\n",
    "    for node, connected_nodes in edges.items():\n",
    "        for connected_node in connected_nodes:\n",
    "\n",
    "            # Store edges by node_ID and part_ID + node_ID and part_ID or source and target\n",
    "            # Make sure each edge is only stored once (unidirectionally)\n",
    "            edge = tuple(sorted((\n",
    "                (node.get_id(), int(node.get_part().get_part_id())),\n",
    "                (connected_node.get_id(), int(connected_node.get_part().get_part_id()))\n",
    "            )))\n",
    "            edge_set.add(edge)\n",
    "\n",
    "    return list(edge_set)\n"
   ],
   "id": "3ddb61ccdd8eadc",
   "outputs": [],
   "execution_count": 313
  },
  {
   "metadata": {
    "ExecuteTime": {
     "end_time": "2025-01-23T17:48:27.058724Z",
     "start_time": "2025-01-23T17:48:27.052725Z"
    }
   },
   "cell_type": "code",
   "source": [
    "def prepare_graph_data(graph_dataset):\n",
    "    part_list_dict = {}\n",
    "    edge_list_dict = {}\n",
    "\n",
    "    for index, graph in enumerate(graph_dataset):\n",
    "        part_list_dict[index] = create_part_list(graph)\n",
    "        edge_list_dict[index] = create_edge_list(graph)\n",
    "\n",
    "    # Sort the lists within the dictionaries\n",
    "    for key in part_list_dict.keys():\n",
    "        part_list_dict[key] = sorted(part_list_dict[key], key=lambda x: x[0])  # Sort by NodeID\n",
    "\n",
    "    for key in edge_list_dict.keys():\n",
    "        edge_list_dict[key] = sorted(edge_list_dict[key], key=lambda x: (x[0][0], x[1][0]))  # Sort edges by source and target\n",
    "\n",
    "    return part_list_dict, edge_list_dict\n",
    "\n"
   ],
   "id": "64f219cd7779c75e",
   "outputs": [],
   "execution_count": 314
  },
  {
   "metadata": {},
   "cell_type": "markdown",
   "source": "## 1.2 Prepare Datasets",
   "id": "8a1934e464d30ed2"
  },
  {
   "metadata": {},
   "cell_type": "markdown",
   "source": "### 1.2.1 Graph Dataset",
   "id": "57732c10da5e591b"
  },
  {
   "metadata": {
    "ExecuteTime": {
     "end_time": "2025-01-23T17:48:28.868906Z",
     "start_time": "2025-01-23T17:48:28.848907Z"
    }
   },
   "cell_type": "code",
   "source": [
    "class GraphDataset(Dataset):\n",
    "    def __init__(self, file_path: str, train=False, validation=False, test=False, seed=42):\n",
    "        if not os.path.exists(file_path):\n",
    "            raise FileNotFoundError(f\"Dataset file not found at {file_path}\")\n",
    "\n",
    "        self.graphs = load_graphs(file_path)\n",
    "\n",
    "        if sum([train, validation, test]) != 1:\n",
    "            raise ValueError(\"Exactly one of 'train', 'validation', or 'test' must be True.\")\n",
    "\n",
    "    def __getitem__(self, idx):\n",
    "        graph = self.graphs[idx]\n",
    "        return graph"
   ],
   "id": "b347c90f963a1263",
   "outputs": [],
   "execution_count": 315
  },
  {
   "metadata": {},
   "cell_type": "markdown",
   "source": "### 1.2.2 Read Datasets",
   "id": "9f0a40c69e91c67c"
  },
  {
   "metadata": {
    "ExecuteTime": {
     "end_time": "2025-01-23T17:48:31.002253Z",
     "start_time": "2025-01-23T17:48:30.736613Z"
    }
   },
   "cell_type": "code",
   "source": [
    "training_set = GraphDataset(\"data/graphs.dat\", train = True, seed=SEED)\n",
    "#validation_set = GraphDataset(\"data/graphs.dat\", validation = True, seed=SEED)\n",
    "#testing_set = GraphDataset(\"data/graphs.dat\", test = True, seed=SEED)"
   ],
   "id": "dbf6a034ec7180fc",
   "outputs": [],
   "execution_count": 316
  },
  {
   "metadata": {},
   "cell_type": "markdown",
   "source": "### 1.2.3 Prepare Part and Edge Data for all graphs",
   "id": "aea9df2049faee21"
  },
  {
   "metadata": {
    "ExecuteTime": {
     "end_time": "2025-01-23T17:48:32.796177Z",
     "start_time": "2025-01-23T17:48:32.519134Z"
    }
   },
   "cell_type": "code",
   "source": [
    "\"\"\"\n",
    "Dictionaries of key: graph-index / graph-id and lists of parts\n",
    "\"\"\"\n",
    "graph_parts_dict, graph_edge_dict = prepare_graph_data(training_set)\n",
    "\n",
    "print(graph_parts_dict[0])\n"
   ],
   "id": "592cdad5bc1e4685",
   "outputs": [
    {
     "name": "stdout",
     "output_type": "stream",
     "text": [
      "[(0, '1621'), (1, '58'), (2, '58'), (3, '58'), (4, '58')]\n"
     ]
    }
   ],
   "execution_count": 317
  },
  {
   "metadata": {},
   "cell_type": "markdown",
   "source": "## 1.3. Create Embeddings",
   "id": "aed3d4d9a579305d"
  },
  {
   "metadata": {},
   "cell_type": "markdown",
   "source": "Embeddings represent features of a node e.g. 16 features of Part 1 are 16 Embedding values",
   "id": "8fb1d77c07d8e7b8"
  },
  {
   "metadata": {},
   "cell_type": "markdown",
   "source": "### 1.3.1. Random Walk Embeddings",
   "id": "4ffdeb350c8017a7"
  },
  {
   "metadata": {
    "ExecuteTime": {
     "end_time": "2025-01-23T17:48:35.310290Z",
     "start_time": "2025-01-23T17:48:35.288159Z"
    }
   },
   "cell_type": "code",
   "source": [
    "def generate_random_walks_single_graph(edges):\n",
    "    \"\"\"\n",
    "    Generate random walks for a single graph.\n",
    "\n",
    "    Parameters:\n",
    "        edges (list): Edge list for a single graph.\n",
    "        num_walks (int): Number of random walks to generate per node.\n",
    "        walk_length (int): Length of each random walk.\n",
    "\n",
    "    Returns:\n",
    "        list: A list of random walks, where each walk is a list of PartIDs.\n",
    "    \"\"\"\n",
    "    # TODO in das ReadMe: Hier fraglich of random-walks funktionieren, da viel hin und her wegen non-cyclical\n",
    "    # TODO Maximilian: Context\n",
    "\n",
    "\n",
    "    walks = []\n",
    "    graph = {}\n",
    "\n",
    "    # Build adjacency list\n",
    "    for edge in edges:\n",
    "        node1, node2 = edge[0][1], edge[1][1]  # Extract PartIDs\n",
    "        graph.setdefault(node1, []).append(node2)\n",
    "        graph.setdefault(node2, []).append(node1)\n",
    "\n",
    "    # Perform random walks\n",
    "    for _ in range(num_walks):\n",
    "        for node in graph.keys():\n",
    "            walk = [node]  # Start the walk with the current node\n",
    "            while len(walk) < walk_length:\n",
    "                cur = walk[-1]  # Get the last node in the walk\n",
    "                if cur in graph:\n",
    "                    walk.append(random.choice(graph[cur]))  # Add a random neighbor\n",
    "                else:\n",
    "                    break\n",
    "            walks.append(walk)  # Add the walk to the list of walks\n",
    "\n",
    "    return walks"
   ],
   "id": "9018a0ab0d4356a2",
   "outputs": [],
   "execution_count": 318
  },
  {
   "metadata": {
    "ExecuteTime": {
     "end_time": "2025-01-23T17:48:45.508415Z",
     "start_time": "2025-01-23T17:48:37.840493Z"
    }
   },
   "cell_type": "code",
   "source": [
    "# Generate Random Walks for all graphs:\n",
    "# execution Dauer: ca. 13 Sekunden (training), ca. 12 Sekunden (testing)\n",
    "\n",
    "random_walks = {}\n",
    "for index, graph in enumerate(training_set):\n",
    "    random_walks[index] = generate_random_walks_single_graph(graph_edge_dict[index])\n",
    "print(random_walks[example_graph])"
   ],
   "id": "8977e9fe1162abf7",
   "outputs": [
    {
     "name": "stdout",
     "output_type": "stream",
     "text": [
      "[[186, 11, 175, 11, 175, 11, 175], [10, 186, 10, 186, 10, 186, 11], [11, 186, 11, 186, 11, 175, 11], [175, 11, 186, 11, 175, 11, 186], [186, 11, 186, 10, 186, 11, 186], [10, 186, 11, 175, 11, 175, 11], [11, 175, 11, 175, 11, 175, 11], [175, 11, 186, 10, 186, 11, 175], [186, 11, 175, 11, 175, 11, 186], [10, 186, 11, 186, 11, 186, 11], [11, 175, 11, 186, 11, 186, 11], [175, 11, 175, 11, 175, 11, 175], [186, 10, 186, 11, 186, 10, 186], [10, 186, 10, 186, 11, 175, 11], [11, 175, 11, 175, 11, 186, 11], [175, 11, 175, 11, 175, 11, 175], [186, 11, 175, 11, 186, 11, 175], [10, 186, 11, 186, 11, 175, 11], [11, 186, 11, 175, 11, 186, 10], [175, 11, 175, 11, 186, 10, 186], [186, 11, 175, 11, 175, 11, 175], [10, 186, 10, 186, 11, 186, 11], [11, 186, 11, 175, 11, 186, 10], [175, 11, 175, 11, 186, 11, 175], [186, 10, 186, 11, 186, 10, 186], [10, 186, 10, 186, 11, 175, 11], [11, 175, 11, 175, 11, 186, 11], [175, 11, 186, 11, 186, 10, 186], [186, 11, 186, 11, 186, 11, 175], [10, 186, 11, 186, 11, 186, 11], [11, 175, 11, 186, 10, 186, 11], [175, 11, 175, 11, 175, 11, 186], [186, 10, 186, 10, 186, 11, 186], [10, 186, 11, 186, 10, 186, 11], [11, 186, 11, 175, 11, 186, 11], [175, 11, 175, 11, 175, 11, 175], [186, 11, 175, 11, 175, 11, 186], [10, 186, 11, 175, 11, 175, 11], [11, 175, 11, 186, 10, 186, 10], [175, 11, 175, 11, 175, 11, 175], [186, 11, 186, 10, 186, 11, 186], [10, 186, 10, 186, 11, 186, 11], [11, 186, 10, 186, 10, 186, 11], [175, 11, 186, 11, 186, 10, 186], [186, 10, 186, 11, 175, 11, 175], [10, 186, 10, 186, 10, 186, 11], [11, 186, 10, 186, 10, 186, 11], [175, 11, 175, 11, 175, 11, 186], [186, 11, 186, 11, 175, 11, 186], [10, 186, 10, 186, 11, 186, 10], [11, 186, 10, 186, 10, 186, 10], [175, 11, 175, 11, 186, 10, 186], [186, 11, 186, 11, 175, 11, 186], [10, 186, 11, 175, 11, 175, 11], [11, 186, 11, 175, 11, 175, 11], [175, 11, 175, 11, 175, 11, 175], [186, 11, 186, 11, 175, 11, 175], [10, 186, 11, 175, 11, 186, 11], [11, 186, 10, 186, 10, 186, 11], [175, 11, 175, 11, 175, 11, 186], [186, 10, 186, 11, 175, 11, 175], [10, 186, 11, 175, 11, 175, 11], [11, 186, 10, 186, 10, 186, 11], [175, 11, 186, 11, 175, 11, 175], [186, 11, 175, 11, 175, 11, 186], [10, 186, 11, 175, 11, 186, 11], [11, 175, 11, 186, 11, 186, 11], [175, 11, 186, 10, 186, 10, 186], [186, 10, 186, 11, 175, 11, 175], [10, 186, 11, 175, 11, 175, 11], [11, 186, 11, 175, 11, 175, 11], [175, 11, 175, 11, 175, 11, 186], [186, 11, 186, 10, 186, 11, 186], [10, 186, 11, 186, 11, 186, 11], [11, 186, 10, 186, 10, 186, 11], [175, 11, 175, 11, 175, 11, 175], [186, 11, 175, 11, 186, 11, 186], [10, 186, 10, 186, 11, 175, 11], [11, 175, 11, 175, 11, 186, 11], [175, 11, 175, 11, 175, 11, 175], [186, 11, 186, 11, 175, 11, 175], [10, 186, 11, 175, 11, 175, 11], [11, 186, 10, 186, 10, 186, 11], [175, 11, 175, 11, 186, 11, 175], [186, 11, 175, 11, 175, 11, 186], [10, 186, 11, 186, 11, 186, 10], [11, 186, 11, 186, 11, 186, 10], [175, 11, 175, 11, 186, 11, 175], [186, 11, 186, 11, 186, 10, 186], [10, 186, 11, 175, 11, 186, 11], [11, 175, 11, 186, 10, 186, 11], [175, 11, 186, 11, 175, 11, 186], [186, 10, 186, 10, 186, 11, 175], [10, 186, 11, 186, 10, 186, 11], [11, 175, 11, 175, 11, 175, 11], [175, 11, 175, 11, 186, 11, 175], [186, 10, 186, 10, 186, 10, 186], [10, 186, 11, 186, 10, 186, 11], [11, 175, 11, 186, 11, 175, 11], [175, 11, 186, 11, 186, 10, 186]]\n"
     ]
    }
   ],
   "execution_count": 319
  },
  {
   "metadata": {},
   "cell_type": "markdown",
   "source": "### 1.3.2. Train Word2Vec Model with Random Walk Embeddings",
   "id": "56e90dd52409156c"
  },
  {
   "metadata": {
    "ExecuteTime": {
     "end_time": "2025-01-23T17:50:57.476949Z",
     "start_time": "2025-01-23T17:48:58.213751Z"
    }
   },
   "cell_type": "code",
   "source": [
    "\"\"\"\n",
    "    flattening Dauer: instant\n",
    "    training Dauer pro Epoche: 5s\n",
    "\"\"\"\n",
    "# Flattening the random walks to be able to train Embedding model on them:\n",
    "# flat_random_walks Länge: 1.310.240\n",
    "flat_random_walks = [walk for walks in random_walks.values() for walk in walks]\n",
    "\n",
    "# Training embedding model:\n",
    "word2vec_model = Word2Vec(\n",
    "    sentences=flat_random_walks,\n",
    "    vector_size=embedding_vector_size,\n",
    "    window=window,\n",
    "    min_count=min_count,\n",
    "    sg=sg,\n",
    "    workers=workers,\n",
    "    epochs=embedding_model_epochs\n",
    ")\n",
    "word2vec_model.save(\"node_embeddings.model\")\n",
    "print(\"Embedding model saved \\n\")"
   ],
   "id": "4ff26036d3c3d1a9",
   "outputs": [
    {
     "name": "stdout",
     "output_type": "stream",
     "text": [
      "Embedding model saved \n",
      "\n"
     ]
    }
   ],
   "execution_count": 320
  },
  {
   "metadata": {},
   "cell_type": "markdown",
   "source": "## 1.4. Prepare Training Data",
   "id": "9b8b0f960ac1edcd"
  },
  {
   "metadata": {
    "ExecuteTime": {
     "end_time": "2025-01-23T17:52:46.580468Z",
     "start_time": "2025-01-23T17:52:45.922654Z"
    }
   },
   "cell_type": "code",
   "source": [
    "# Create one parts-torch, one edge-torch and one label-torch for each graph:\n",
    "all_graph_data = []\n",
    "\n",
    "for graph_id in graph_parts_dict.keys():\n",
    "\n",
    "    # Retrieve parts and edges for the current graph\n",
    "    graph_parts = graph_parts_dict[graph_id]\n",
    "    graph_edges = graph_edge_dict[graph_id]\n",
    "\n",
    "    # 1. Extract Parts Features:\n",
    "    parts_list = []\n",
    "    for part in graph_parts:\n",
    "        embedding = word2vec_model.wv[int(part[1])]\n",
    "        parts_list.append(embedding)\n",
    "    parts = torch.tensor(parts_list, dtype=torch.float)\n",
    "\n",
    "    # 2. Extract Edge Features:\n",
    "    edge_index_list = []\n",
    "    for edge in graph_edges:\n",
    "        source_node = edge[0][0]\n",
    "        target_node = edge[1][0]\n",
    "        edge_index_list.append((source_node, target_node))\n",
    "    edge_index = torch.tensor(edge_index_list, dtype=torch.long).t().contiguous()\n",
    "\n",
    "    # 3. Extract Edge Labels:\n",
    "    pos_edge_label = torch.ones(edge_index.size(1))  # Positive edges -> Exist in the graph\n",
    "\n",
    "    # 4. Create Data Object for the Current Graph:\n",
    "    single_graph_data = Data(x=parts, edge_index=edge_index, pos_edge_label=pos_edge_label)\n",
    "    all_graph_data.append(single_graph_data)"
   ],
   "id": "ca6ef2b2511423f1",
   "outputs": [],
   "execution_count": 323
  },
  {
   "metadata": {
    "ExecuteTime": {
     "end_time": "2025-01-23T17:52:49.039196Z",
     "start_time": "2025-01-23T17:52:48.958141Z"
    }
   },
   "cell_type": "code",
   "source": [
    "# Verify the first Data object:\n",
    "training_set[example_graph].draw()\n",
    "print(all_graph_data[example_graph])\n",
    "print(all_graph_data[example_graph].x)\n",
    "print(all_graph_data[example_graph].edge_index)\n",
    "print(all_graph_data[example_graph].pos_edge_label)\n"
   ],
   "id": "d20d1b3bbcaf81f9",
   "outputs": [
    {
     "data": {
      "text/plain": [
       "<Figure size 640x480 with 1 Axes>"
      ],
      "image/png": "[encoded data removed]"
     },
     "metadata": {},
     "output_type": "display_data"
    },
    {
     "name": "stdout",
     "output_type": "stream",
     "text": [
      "Data(x=[6, 16], edge_index=[2, 5], pos_edge_label=[5])\n",
      "tensor([[-1.8880, -0.2448,  2.7348,  2.1951,  3.3350,  1.4245, -0.7450, -0.2479,\n",
      "         -1.0782,  0.3293, -0.7487, -0.4041,  1.9187, -0.0150,  2.0633, -0.2734],\n",
      "        [-0.7735,  0.4990,  0.4769,  0.1346,  1.3942,  2.3561,  0.8379,  0.8478,\n",
      "         -0.0293,  0.0754, -1.3937,  0.0226,  2.5194, -2.2089, -1.7548,  0.0672],\n",
      "        [ 0.2798,  0.8104,  0.3692, -0.3605,  0.8933, -0.1720, -0.6786, -0.9534,\n",
      "         -0.2215,  0.2947, -0.2533, -0.1949,  0.4417,  0.2810,  0.0808, -0.0796],\n",
      "        [ 0.2798,  0.8104,  0.3692, -0.3605,  0.8933, -0.1720, -0.6786, -0.9534,\n",
      "         -0.2215,  0.2947, -0.2533, -0.1949,  0.4417,  0.2810,  0.0808, -0.0796],\n",
      "        [ 0.3058,  1.1059,  0.5098, -0.4539,  1.1662, -0.0644, -0.7410, -1.1496,\n",
      "         -0.4955,  0.3146,  0.0734, -0.2136,  0.6962,  0.2228,  0.6481,  0.2754],\n",
      "        [ 0.3058,  1.1059,  0.5098, -0.4539,  1.1662, -0.0644, -0.7410, -1.1496,\n",
      "         -0.4955,  0.3146,  0.0734, -0.2136,  0.6962,  0.2228,  0.6481,  0.2754]])\n",
      "tensor([[0, 0, 0, 2, 3],\n",
      "        [1, 2, 3, 4, 5]])\n",
      "tensor([1., 1., 1., 1., 1.])\n"
     ]
    }
   ],
   "execution_count": 324
  },
  {
   "metadata": {},
   "cell_type": "markdown",
   "source": "# 3. Setup GNN",
   "id": "21caf4da72ab57aa"
  },
  {
   "metadata": {},
   "cell_type": "markdown",
   "source": [
    "Recommended Model: GAE\n",
    "GAE (Graph Autoencoder) is most suited for your problem because:\n",
    "It encodes node features into latent space representations.\n",
    "It uses a decoder to predict the existence of edges between nodes.\n",
    "It is simple to set up for edge prediction tasks."
   ],
   "id": "e8dc34352e9ec1ee"
  },
  {
   "metadata": {},
   "cell_type": "markdown",
   "source": "## 3.1. Define the GAE",
   "id": "c8d4c0cb04a09b22"
  },
  {
   "metadata": {
    "ExecuteTime": {
     "end_time": "2025-01-23T17:53:06.114614Z",
     "start_time": "2025-01-23T17:53:06.104615Z"
    }
   },
   "cell_type": "code",
   "source": [
    "# Define Encoder\n",
    "class GCNEncoder(torch.nn.Module):\n",
    "    def __init__(self, input_dim, hidden_dim, latent_dim):\n",
    "        super(GCNEncoder, self).__init__()\n",
    "        self.conv1 = GCNConv(input_dim, hidden_dim)\n",
    "        self.conv2 = GCNConv(hidden_dim, latent_dim)\n",
    "\n",
    "    def forward(self, x, edge_index):\n",
    "        x = self.conv1(x, edge_index)\n",
    "        x = torch.relu(x)\n",
    "        x = self.conv2(x, edge_index)\n",
    "        return x\n"
   ],
   "id": "8f654d9377772073",
   "outputs": [],
   "execution_count": 325
  },
  {
   "metadata": {},
   "cell_type": "markdown",
   "source": "## 3.2. Initialize the GAE",
   "id": "2ac2bc812a9669d6"
  },
  {
   "metadata": {
    "ExecuteTime": {
     "end_time": "2025-01-23T17:53:08.168353Z",
     "start_time": "2025-01-23T17:53:08.147360Z"
    }
   },
   "cell_type": "code",
   "source": [
    "# Initialize GAE\n",
    "encoder = GCNEncoder(input_dim, hidden_dim, latent_dim)\n",
    "model = GAE(encoder)"
   ],
   "id": "3740cd3962cfc17",
   "outputs": [],
   "execution_count": 326
  },
  {
   "metadata": {},
   "cell_type": "markdown",
   "source": "## 3.4. Training",
   "id": "baff3a28e539bbdb"
  },
  {
   "metadata": {},
   "cell_type": "markdown",
   "source": "For link prediction, the GAE minimizes the binary cross-entropy loss between the reconstructed edges and the ground-truth edges.",
   "id": "bc1db5e80242f92c"
  },
  {
   "metadata": {},
   "cell_type": "markdown",
   "source": "### 3.3.1 Data Loader to batch Graph-Data Objects",
   "id": "e60411cfa2c6392e"
  },
  {
   "metadata": {
    "ExecuteTime": {
     "end_time": "2025-01-23T17:53:10.776527Z",
     "start_time": "2025-01-23T17:53:10.765532Z"
    }
   },
   "cell_type": "code",
   "source": [
    "# Create a DataLoader for batching the graphs\n",
    "batch_size = 32  # Adjust based on your GPU memory\n",
    "loader = DataLoader(all_graph_data, batch_size=batch_size, shuffle=True)"
   ],
   "id": "97246cf1a5287e04",
   "outputs": [],
   "execution_count": 327
  },
  {
   "metadata": {
    "ExecuteTime": {
     "end_time": "2025-01-23T17:54:18.922307Z",
     "start_time": "2025-01-23T17:54:18.910144Z"
    }
   },
   "cell_type": "code",
   "source": [
    "# Prepare optimizer\n",
    "optimizer = optim.Adam(model.parameters(), lr=learning_rate)\n",
    "\n",
    "# Define the training loop\n",
    "def train(model, loader, optimizer):\n",
    "\n",
    "    model.train()           # Set model to train mode\n",
    "    total_loss = 0\n",
    "\n",
    "    for batch in loader:\n",
    "\n",
    "        # Reset gradients\n",
    "        optimizer.zero_grad()\n",
    "\n",
    "        # Encode node features into latent space\n",
    "        z = model.encode(batch.x, batch.edge_index)\n",
    "\n",
    "        # Decode and compute reconstruction loss\n",
    "        loss = model.recon_loss(z, batch.edge_index)\n",
    "\n",
    "        # Backpropagation and optimization\n",
    "        loss.backward()\n",
    "        optimizer.step()\n",
    "\n",
    "        total_loss += loss.item()\n",
    "\n",
    "    return total_loss / len(loader)"
   ],
   "id": "f4a631579e8cfc94",
   "outputs": [],
   "execution_count": 328
  },
  {
   "metadata": {
    "ExecuteTime": {
     "end_time": "2025-01-23T17:54:50.457339Z",
     "start_time": "2025-01-23T17:54:21.423737Z"
    }
   },
   "cell_type": "code",
   "source": [
    "for epoch in range(gae_epochs):\n",
    "    loss = train(model, loader, optimizer)\n",
    "    print(f\"Epoch {epoch+1}/{gae_epochs}, Loss: {loss:.4f}\")"
   ],
   "id": "39afd7a01bd8ff29",
   "outputs": [
    {
     "name": "stdout",
     "output_type": "stream",
     "text": [
      "Epoch 1/100, Loss: 1.0464\n",
      "Epoch 2/100, Loss: 0.9318\n",
      "Epoch 3/100, Loss: 0.9231\n",
      "Epoch 4/100, Loss: 0.9248\n",
      "Epoch 5/100, Loss: 0.9303\n",
      "Epoch 6/100, Loss: 0.9168\n",
      "Epoch 7/100, Loss: 0.9271\n",
      "Epoch 8/100, Loss: 0.9235\n",
      "Epoch 9/100, Loss: 0.9234\n",
      "Epoch 10/100, Loss: 0.9247\n",
      "Epoch 11/100, Loss: 0.9204\n",
      "Epoch 12/100, Loss: 0.9256\n",
      "Epoch 13/100, Loss: 0.9295\n",
      "Epoch 14/100, Loss: 0.9288\n",
      "Epoch 15/100, Loss: 0.9273\n",
      "Epoch 16/100, Loss: 0.9258\n",
      "Epoch 17/100, Loss: 0.9288\n",
      "Epoch 18/100, Loss: 0.9294\n"
     ]
    },
    {
     "ename": "KeyboardInterrupt",
     "evalue": "",
     "output_type": "error",
     "traceback": [
      "\u001B[1;31m---------------------------------------------------------------------------\u001B[0m",
      "\u001B[1;31mKeyboardInterrupt\u001B[0m                         Traceback (most recent call last)",
      "Cell \u001B[1;32mIn[329], line 2\u001B[0m\n\u001B[0;32m      1\u001B[0m \u001B[38;5;28;01mfor\u001B[39;00m epoch \u001B[38;5;129;01min\u001B[39;00m \u001B[38;5;28mrange\u001B[39m(gae_epochs):\n\u001B[1;32m----> 2\u001B[0m     loss \u001B[38;5;241m=\u001B[39m \u001B[43mtrain\u001B[49m\u001B[43m(\u001B[49m\u001B[43mmodel\u001B[49m\u001B[43m,\u001B[49m\u001B[43m \u001B[49m\u001B[43mloader\u001B[49m\u001B[43m,\u001B[49m\u001B[43m \u001B[49m\u001B[43moptimizer\u001B[49m\u001B[43m)\u001B[49m\n\u001B[0;32m      3\u001B[0m     \u001B[38;5;28mprint\u001B[39m(\u001B[38;5;124mf\u001B[39m\u001B[38;5;124m\"\u001B[39m\u001B[38;5;124mEpoch \u001B[39m\u001B[38;5;132;01m{\u001B[39;00mepoch\u001B[38;5;241m+\u001B[39m\u001B[38;5;241m1\u001B[39m\u001B[38;5;132;01m}\u001B[39;00m\u001B[38;5;124m/\u001B[39m\u001B[38;5;132;01m{\u001B[39;00mgae_epochs\u001B[38;5;132;01m}\u001B[39;00m\u001B[38;5;124m, Loss: \u001B[39m\u001B[38;5;132;01m{\u001B[39;00mloss\u001B[38;5;132;01m:\u001B[39;00m\u001B[38;5;124m.4f\u001B[39m\u001B[38;5;132;01m}\u001B[39;00m\u001B[38;5;124m\"\u001B[39m)\n",
      "Cell \u001B[1;32mIn[328], line 22\u001B[0m, in \u001B[0;36mtrain\u001B[1;34m(model, loader, optimizer)\u001B[0m\n\u001B[0;32m     19\u001B[0m loss \u001B[38;5;241m=\u001B[39m model\u001B[38;5;241m.\u001B[39mrecon_loss(z, batch\u001B[38;5;241m.\u001B[39medge_index)\n\u001B[0;32m     21\u001B[0m \u001B[38;5;66;03m# Backpropagation and optimization\u001B[39;00m\n\u001B[1;32m---> 22\u001B[0m \u001B[43mloss\u001B[49m\u001B[38;5;241;43m.\u001B[39;49m\u001B[43mbackward\u001B[49m\u001B[43m(\u001B[49m\u001B[43m)\u001B[49m\n\u001B[0;32m     23\u001B[0m optimizer\u001B[38;5;241m.\u001B[39mstep()\n\u001B[0;32m     25\u001B[0m total_loss \u001B[38;5;241m+\u001B[39m\u001B[38;5;241m=\u001B[39m loss\u001B[38;5;241m.\u001B[39mitem()\n",
      "File \u001B[1;32m~\\miniconda3\\envs\\ai-project\\lib\\site-packages\\torch\\_tensor.py:521\u001B[0m, in \u001B[0;36mTensor.backward\u001B[1;34m(self, gradient, retain_graph, create_graph, inputs)\u001B[0m\n\u001B[0;32m    511\u001B[0m \u001B[38;5;28;01mif\u001B[39;00m has_torch_function_unary(\u001B[38;5;28mself\u001B[39m):\n\u001B[0;32m    512\u001B[0m     \u001B[38;5;28;01mreturn\u001B[39;00m handle_torch_function(\n\u001B[0;32m    513\u001B[0m         Tensor\u001B[38;5;241m.\u001B[39mbackward,\n\u001B[0;32m    514\u001B[0m         (\u001B[38;5;28mself\u001B[39m,),\n\u001B[1;32m   (...)\u001B[0m\n\u001B[0;32m    519\u001B[0m         inputs\u001B[38;5;241m=\u001B[39minputs,\n\u001B[0;32m    520\u001B[0m     )\n\u001B[1;32m--> 521\u001B[0m \u001B[43mtorch\u001B[49m\u001B[38;5;241;43m.\u001B[39;49m\u001B[43mautograd\u001B[49m\u001B[38;5;241;43m.\u001B[39;49m\u001B[43mbackward\u001B[49m\u001B[43m(\u001B[49m\n\u001B[0;32m    522\u001B[0m \u001B[43m    \u001B[49m\u001B[38;5;28;43mself\u001B[39;49m\u001B[43m,\u001B[49m\u001B[43m \u001B[49m\u001B[43mgradient\u001B[49m\u001B[43m,\u001B[49m\u001B[43m \u001B[49m\u001B[43mretain_graph\u001B[49m\u001B[43m,\u001B[49m\u001B[43m \u001B[49m\u001B[43mcreate_graph\u001B[49m\u001B[43m,\u001B[49m\u001B[43m \u001B[49m\u001B[43minputs\u001B[49m\u001B[38;5;241;43m=\u001B[39;49m\u001B[43minputs\u001B[49m\n\u001B[0;32m    523\u001B[0m \u001B[43m\u001B[49m\u001B[43m)\u001B[49m\n",
      "File \u001B[1;32m~\\miniconda3\\envs\\ai-project\\lib\\site-packages\\torch\\autograd\\__init__.py:289\u001B[0m, in \u001B[0;36mbackward\u001B[1;34m(tensors, grad_tensors, retain_graph, create_graph, grad_variables, inputs)\u001B[0m\n\u001B[0;32m    284\u001B[0m     retain_graph \u001B[38;5;241m=\u001B[39m create_graph\n\u001B[0;32m    286\u001B[0m \u001B[38;5;66;03m# The reason we repeat the same comment below is that\u001B[39;00m\n\u001B[0;32m    287\u001B[0m \u001B[38;5;66;03m# some Python versions print out the first line of a multi-line function\u001B[39;00m\n\u001B[0;32m    288\u001B[0m \u001B[38;5;66;03m# calls in the traceback and some print out the last line\u001B[39;00m\n\u001B[1;32m--> 289\u001B[0m \u001B[43m_engine_run_backward\u001B[49m\u001B[43m(\u001B[49m\n\u001B[0;32m    290\u001B[0m \u001B[43m    \u001B[49m\u001B[43mtensors\u001B[49m\u001B[43m,\u001B[49m\n\u001B[0;32m    291\u001B[0m \u001B[43m    \u001B[49m\u001B[43mgrad_tensors_\u001B[49m\u001B[43m,\u001B[49m\n\u001B[0;32m    292\u001B[0m \u001B[43m    \u001B[49m\u001B[43mretain_graph\u001B[49m\u001B[43m,\u001B[49m\n\u001B[0;32m    293\u001B[0m \u001B[43m    \u001B[49m\u001B[43mcreate_graph\u001B[49m\u001B[43m,\u001B[49m\n\u001B[0;32m    294\u001B[0m \u001B[43m    \u001B[49m\u001B[43minputs\u001B[49m\u001B[43m,\u001B[49m\n\u001B[0;32m    295\u001B[0m \u001B[43m    \u001B[49m\u001B[43mallow_unreachable\u001B[49m\u001B[38;5;241;43m=\u001B[39;49m\u001B[38;5;28;43;01mTrue\u001B[39;49;00m\u001B[43m,\u001B[49m\n\u001B[0;32m    296\u001B[0m \u001B[43m    \u001B[49m\u001B[43maccumulate_grad\u001B[49m\u001B[38;5;241;43m=\u001B[39;49m\u001B[38;5;28;43;01mTrue\u001B[39;49;00m\u001B[43m,\u001B[49m\n\u001B[0;32m    297\u001B[0m \u001B[43m\u001B[49m\u001B[43m)\u001B[49m\n",
      "File \u001B[1;32m~\\miniconda3\\envs\\ai-project\\lib\\site-packages\\torch\\autograd\\graph.py:769\u001B[0m, in \u001B[0;36m_engine_run_backward\u001B[1;34m(t_outputs, *args, **kwargs)\u001B[0m\n\u001B[0;32m    767\u001B[0m     unregister_hooks \u001B[38;5;241m=\u001B[39m _register_logging_hooks_on_whole_graph(t_outputs)\n\u001B[0;32m    768\u001B[0m \u001B[38;5;28;01mtry\u001B[39;00m:\n\u001B[1;32m--> 769\u001B[0m     \u001B[38;5;28;01mreturn\u001B[39;00m \u001B[43mVariable\u001B[49m\u001B[38;5;241;43m.\u001B[39;49m\u001B[43m_execution_engine\u001B[49m\u001B[38;5;241;43m.\u001B[39;49m\u001B[43mrun_backward\u001B[49m\u001B[43m(\u001B[49m\u001B[43m  \u001B[49m\u001B[38;5;66;43;03m# Calls into the C++ engine to run the backward pass\u001B[39;49;00m\n\u001B[0;32m    770\u001B[0m \u001B[43m        \u001B[49m\u001B[43mt_outputs\u001B[49m\u001B[43m,\u001B[49m\u001B[43m \u001B[49m\u001B[38;5;241;43m*\u001B[39;49m\u001B[43margs\u001B[49m\u001B[43m,\u001B[49m\u001B[43m \u001B[49m\u001B[38;5;241;43m*\u001B[39;49m\u001B[38;5;241;43m*\u001B[39;49m\u001B[43mkwargs\u001B[49m\n\u001B[0;32m    771\u001B[0m \u001B[43m    \u001B[49m\u001B[43m)\u001B[49m  \u001B[38;5;66;03m# Calls into the C++ engine to run the backward pass\u001B[39;00m\n\u001B[0;32m    772\u001B[0m \u001B[38;5;28;01mfinally\u001B[39;00m:\n\u001B[0;32m    773\u001B[0m     \u001B[38;5;28;01mif\u001B[39;00m attach_logging_hooks:\n",
      "\u001B[1;31mKeyboardInterrupt\u001B[0m: "
     ]
    }
   ],
   "execution_count": 329
  },
  {
   "metadata": {},
   "cell_type": "markdown",
   "source": "# 5. Predict Graph",
   "id": "8aaaa0387b71e0d6"
  },
  {
   "metadata": {
    "ExecuteTime": {
     "end_time": "2025-01-23T18:02:34.817635Z",
     "start_time": "2025-01-23T18:02:34.808633Z"
    }
   },
   "cell_type": "code",
   "source": [
    "part_ids = [58, 1621, 175, 186]  # Example part IDs\n",
    "\n",
    "x = torch.tensor(\n",
    "    [word2vec_model.wv[part_id] for part_id in part_ids],\n",
    "    dtype=torch.float\n",
    ")\n",
    "\n",
    "\"\"\"\n",
    "Since you are predicting the graph, you won't have edges initially.\n",
    "Use all possible combinations of nodes (complete graph) as a starting point.\n",
    "\"\"\"\n",
    "\n",
    "num_parts = len(part_ids)\n",
    "edge_index = torch.tensor(\n",
    "    list(combinations(range(num_parts), 2)),\n",
    "    dtype=torch.long\n",
    ").t().contiguous()\n",
    "\n",
    "\n",
    "data = Data(x=x, edge_index=edge_index)\n",
    "print(data)\n",
    "print(data.x)\n",
    "print(data.edge_index)"
   ],
   "id": "e144830da81cebc6",
   "outputs": [
    {
     "name": "stdout",
     "output_type": "stream",
     "text": [
      "Data(x=[4, 16], edge_index=[2, 6])\n",
      "tensor([[ 0.4986,  0.7157,  0.2877, -0.3653,  0.9478, -0.0701, -0.3105, -0.2350,\n",
      "         -0.0887,  0.1505,  0.7847, -0.8252,  0.7387, -0.0614,  0.8476,  0.3702],\n",
      "        [-1.0506, -2.2867,  2.1062,  1.0013,  1.4637,  0.1802, -3.1504, -2.6469,\n",
      "         -1.0599,  2.7334, -1.7899, -3.2971,  0.6649, -3.1525,  3.4964,  3.4942],\n",
      "        [ 0.3058,  1.1059,  0.5098, -0.4539,  1.1662, -0.0644, -0.7410, -1.1496,\n",
      "         -0.4955,  0.3146,  0.0734, -0.2136,  0.6962,  0.2228,  0.6481,  0.2754],\n",
      "        [-1.8880, -0.2448,  2.7348,  2.1951,  3.3350,  1.4245, -0.7450, -0.2479,\n",
      "         -1.0782,  0.3293, -0.7487, -0.4041,  1.9187, -0.0150,  2.0633, -0.2734]])\n",
      "tensor([[0, 0, 0, 1, 1, 2],\n",
      "        [1, 2, 3, 2, 3, 3]])\n"
     ]
    }
   ],
   "execution_count": 335
  },
  {
   "metadata": {
    "ExecuteTime": {
     "end_time": "2025-01-23T18:02:36.919324Z",
     "start_time": "2025-01-23T18:02:36.906814Z"
    }
   },
   "cell_type": "code",
   "source": [
    "# Encode and Decode:\n",
    "\n",
    "# Pass x and edge_index through the encoder to get latent node embeddings.\n",
    "z = model.encode(data.x, data.edge_index)\n",
    "\n",
    "# Predict the likelihood of edges existing between nodes using the decoder.\n",
    "edge_probs = model.decode(z, data.edge_index)\n",
    "print(edge_probs)"
   ],
   "id": "e821befd419a218b",
   "outputs": [
    {
     "name": "stdout",
     "output_type": "stream",
     "text": [
      "tensor([0.5956, 0.5985, 0.5974, 0.6001, 0.5982, 0.6120],\n",
      "       grad_fn=<SigmoidBackward0>)\n"
     ]
    }
   ],
   "execution_count": 336
  },
  {
   "metadata": {
    "ExecuteTime": {
     "end_time": "2025-01-23T18:02:38.708837Z",
     "start_time": "2025-01-23T18:02:38.694829Z"
    }
   },
   "cell_type": "code",
   "source": [
    "# Apply a threshold to determine whether an edge exists or not.\n",
    "threshold = 0.5  # Adjust based on your use case\n",
    "predicted_edges = data.edge_index[:, edge_probs > threshold]\n",
    "\n",
    "# Use the part_ids list to translate node indices in predicted_edges back to part IDs.\n",
    "predicted_graph_edges = [\n",
    "    (part_ids[src], part_ids[dst])\n",
    "    for src, dst in predicted_edges.t().tolist()\n",
    "]\n",
    "\n",
    "print(predicted_graph_edges)\n"
   ],
   "id": "ad80324521809f6d",
   "outputs": [
    {
     "name": "stdout",
     "output_type": "stream",
     "text": [
      "[(58, 1621), (58, 175), (58, 186), (1621, 175), (1621, 186), (175, 186)]\n"
     ]
    }
   ],
   "execution_count": 337
  },
  {
   "metadata": {},
   "cell_type": "markdown",
   "source": "## 5.1. Initialize Empty Graph with Part_IDs",
   "id": "d30f06031179afa9"
  },
  {
   "metadata": {},
   "cell_type": "markdown",
   "source": "## 5.2. Iterative Edge Prediction",
   "id": "f40b191dbef9cd18"
  },
  {
   "metadata": {},
   "cell_type": "markdown",
   "source": "## 5.3. Output Predicted Graph",
   "id": "30faf18103f96600"
  },
  {
   "metadata": {},
   "cell_type": "markdown",
   "source": "# 6. Evaluate Model",
   "id": "9ad0f80fae9500be"
  },
  {
   "metadata": {},
   "cell_type": "markdown",
   "source": "## 6.1. Evaluation Metrics",
   "id": "d3f958865fb137f8"
  },
  {
   "metadata": {},
   "cell_type": "markdown",
   "source": "## 6.2. Visualizations",
   "id": "6a12c424b2d5c434"
  },
  {
   "metadata": {},
   "cell_type": "code",
   "outputs": [],
   "execution_count": null,
   "source": "",
   "id": "57948f210af3a03d"
  }
 ],
 "metadata": {
  "kernelspec": {
   "display_name": "Python 3",
   "language": "python",
   "name": "python3"
  },
  "language_info": {
   "codemirror_mode": {
    "name": "ipython",
    "version": 2
   },
   "file_extension": ".py",
   "mimetype": "text/x-python",
   "name": "python",
   "nbconvert_exporter": "python",
   "pygments_lexer": "ipython2",
   "version": "2.7.6"
  }
 },
 "nbformat": 4,
 "nbformat_minor": 5
}
