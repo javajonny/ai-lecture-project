{
 "cells": [
  {
   "cell_type": "code",
   "id": "initial_id",
   "metadata": {
    "collapsed": true,
    "ExecuteTime": {
     "end_time": "2025-01-21T14:10:21.655840Z",
     "start_time": "2025-01-21T14:10:21.639837Z"
    }
   },
   "source": [
    "import os\n",
    "import random\n",
    "import torch.nn as nn\n",
    "import torch.nn.functional as F\n",
    "\n",
    "from torch_geometric.data import Data\n",
    "from torch_geometric.nn import GCNConv, GAE\n",
    "from torch.utils.data import Dataset\n",
    "from graph_loader import load_graphs"
   ],
   "outputs": [],
   "execution_count": 14
  },
  {
   "metadata": {
    "ExecuteTime": {
     "end_time": "2025-01-21T14:10:23.777974Z",
     "start_time": "2025-01-21T14:10:23.762974Z"
    }
   },
   "cell_type": "code",
   "source": [
    "SEED = 0\n",
    "random.seed(SEED)"
   ],
   "id": "9c0c32faf5116ba4",
   "outputs": [],
   "execution_count": 15
  },
  {
   "metadata": {},
   "cell_type": "code",
   "outputs": [],
   "execution_count": null,
   "source": [
    "\"\"\"\n",
    "\n",
    "    graph.get_edges()\n",
    "\n",
    "    Edge:\n",
    "        node: Aktuelle Node\n",
    "        connected_nodes: List an Nodes, von node\n",
    "\n",
    "        E.g.: edges.get_items() liefer alle edges:\n",
    "        node: Node\n",
    "        connected_nodes: [Dict(Nodes)]\n",
    "        Verbindung Node 2 zu Node 0:\n",
    "            Node(NodeID=2, Part=Part(PartID=58, FamilyID=31))\n",
    "            [Node(NodeID=0, Part=Part(PartID=1621, FamilyID=0))]\n",
    "\n",
    "        Verbindung Node 0 zu Nodes 1, 2, 3, 4, 5:\n",
    "            Node(NodeID=0, Part=Part(PartID=1621, FamilyID=0)),\n",
    "            [Node(NodeID=1, Part=Part(PartID=58, FamilyID=31)), Node(NodeID=2, Part=Part(PartID=58, FamilyID=31)), Node(NodeID=3, Part=Part(PartID=58, FamilyID=31)), Node(NodeID=4, Part=Part(PartID=58, FamilyID=31))]\n",
    "\n",
    "\n",
    "\n",
    "\n",
    "\"\"\""
   ],
   "id": "115ae08f3895c06b"
  },
  {
   "metadata": {
    "ExecuteTime": {
     "end_time": "2025-01-21T19:53:49.599827Z",
     "start_time": "2025-01-21T19:53:49.587828Z"
    }
   },
   "cell_type": "code",
   "source": [
    "def create_edge_list(graph):\n",
    "    edge_set = set()\n",
    "    edges = graph.get_edges()\n",
    "    for node, connected_nodes in edges.items():\n",
    "        for connected_node in connected_nodes:\n",
    "\n",
    "            # Store edges by node_ID and part_ID + node_ID and part_ID or source and target\n",
    "            # Make sure each edge is only stored once (unidirectionally)\n",
    "            edge = tuple(sorted((\n",
    "                (node.get_id(), node.get_part().get_part_id()),\n",
    "                (connected_node.get_id(), connected_node.get_part().get_part_id())\n",
    "            )))\n",
    "            edge_set.add(edge)\n",
    "\n",
    "    return list(edge_set)\n"
   ],
   "id": "88cd87c292cc50ad",
   "outputs": [],
   "execution_count": 84
  },
  {
   "metadata": {
    "ExecuteTime": {
     "end_time": "2025-01-21T19:53:52.860654Z",
     "start_time": "2025-01-21T19:53:52.848399Z"
    }
   },
   "cell_type": "code",
   "source": [
    "def create_part_list(graph):\n",
    "    part_list = []\n",
    "    nodes = graph.get_nodes()\n",
    "    for node in nodes:\n",
    "        part_list.append((node.get_id(), node.get_part().get_part_id()))\n",
    "    return part_list"
   ],
   "id": "fe5b6bb4eda112d2",
   "outputs": [],
   "execution_count": 85
  },
  {
   "metadata": {
    "ExecuteTime": {
     "end_time": "2025-01-21T19:56:51.672550Z",
     "start_time": "2025-01-21T19:56:51.665550Z"
    }
   },
   "cell_type": "code",
   "source": [
    "class GraphDataset(Dataset):\n",
    "    def __init__(self, file_path: str, train=False, validation=False, test=False, seed=42):\n",
    "        if not os.path.exists(file_path):\n",
    "            raise FileNotFoundError(f\"Dataset file not found at {file_path}\")\n",
    "\n",
    "        self.graphs = load_graphs(file_path)\n",
    "\n",
    "        if sum([train, validation, test]) != 1:\n",
    "            raise ValueError(\"Exactly one of 'train', 'validation', or 'test' must be True.\")\n",
    "\n",
    "    def __getitem__(self, idx):\n",
    "        graph = self.graphs[idx]\n",
    "        return graph"
   ],
   "id": "7d02531e2b730e2a",
   "outputs": [],
   "execution_count": 102
  },
  {
   "metadata": {
    "ExecuteTime": {
     "end_time": "2025-01-21T19:56:53.855251Z",
     "start_time": "2025-01-21T19:56:53.835251Z"
    }
   },
   "cell_type": "code",
   "source": [
    "def prepare_graph_data(graph_dataset):\n",
    "    edge_list_dict = {}\n",
    "    part_list_dict = {}\n",
    "\n",
    "    for index, graph in enumerate(graph_dataset):\n",
    "        edge_list_dict[index] =  create_edge_list(graph)\n",
    "        part_list_dict[index] = create_part_list(graph)\n",
    "\n",
    "    return edge_list_dict, part_list_dict\n"
   ],
   "id": "be6984d789bbf691",
   "outputs": [],
   "execution_count": 103
  },
  {
   "metadata": {
    "ExecuteTime": {
     "end_time": "2025-01-21T19:56:55.787168Z",
     "start_time": "2025-01-21T19:56:55.550608Z"
    }
   },
   "cell_type": "code",
   "source": [
    "#training_set = GraphDataset(\"data/graphs.dat\", train = True, seed=SEED)\n",
    "#validation_set = GraphDataset(\"data/graphs.dat\", validation = True, seed=SEED)\n",
    "testing_set = GraphDataset(\"data/graphs.dat\", test = True, seed=SEED)"
   ],
   "id": "48484cc9f557f6bd",
   "outputs": [],
   "execution_count": 104
  },
  {
   "metadata": {
    "ExecuteTime": {
     "end_time": "2025-01-21T19:57:30.149108Z",
     "start_time": "2025-01-21T19:57:29.910509Z"
    }
   },
   "cell_type": "code",
   "source": [
    "edge_list, parts_list = prepare_graph_data(testing_set)\n",
    "print(len(edge_list), len(parts_list))\n",
    "print(edge_list[0])\n",
    "print(parts_list[0])"
   ],
   "id": "5b3e281e4f1e0c21",
   "outputs": [
    {
     "name": "stdout",
     "output_type": "stream",
     "text": [
      "11159 11159\n",
      "[((0, '1621'), (4, '58')), ((0, '1621'), (3, '58')), ((0, '1621'), (2, '58')), ((0, '1621'), (1, '58'))]\n",
      "[(2, '58'), (3, '58'), (1, '58'), (4, '58'), (0, '1621')]\n"
     ]
    }
   ],
   "execution_count": 107
  },
  {
   "metadata": {},
   "cell_type": "markdown",
   "source": "# Model: Graph Neural Network",
   "id": "bd6bc0b8d8a78646"
  },
  {
   "metadata": {},
   "cell_type": "code",
   "outputs": [],
   "execution_count": null,
   "source": [
    "class GCNEncoder(nn.Module):\n",
    "    def __init__(self, input_dim, hidden_dim, embedding_dim):\n",
    "        super(GCNEncoder, self).__init__()\n",
    "        self.conv1 = GCNConv(input_dim, hidden_dim)\n",
    "        self.conv2 = GCNConv(hidden_dim, embedding_dim)\n",
    "\n",
    "    def forward(self, x, edge_index):\n",
    "        x = F.relu(self.conv1(x, edge_index))\n",
    "        x = self.conv2(x, edge_index)\n",
    "        return x\n",
    "\n",
    "# Initialize GCN"
   ],
   "id": "8cd890fcf2080000"
  }
 ],
 "metadata": {
  "kernelspec": {
   "display_name": "Python 3",
   "language": "python",
   "name": "python3"
  },
  "language_info": {
   "codemirror_mode": {
    "name": "ipython",
    "version": 2
   },
   "file_extension": ".py",
   "mimetype": "text/x-python",
   "name": "python",
   "nbconvert_exporter": "python",
   "pygments_lexer": "ipython2",
   "version": "2.7.6"
  }
 },
 "nbformat": 4,
 "nbformat_minor": 5
}
