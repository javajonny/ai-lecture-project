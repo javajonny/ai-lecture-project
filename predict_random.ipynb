{
 "cells": [
  {
   "cell_type": "markdown",
   "metadata": {},
   "source": [
    "# Random Prediction\n",
    "\n",
    "Dieses Modell nimmt eine Liste von Parts und erstellt daraus zufällig einen Graphen. Da die Anzahl der Möglichkeiten aufgrund der Zyklenfreiheit sehr begrenzt ist, soll dieses Modell als Baseline dienen."
   ]
  },
  {
   "cell_type": "markdown",
   "metadata": {},
   "source": [
    "## Setup"
   ]
  },
  {
   "cell_type": "code",
   "execution_count": 1,
   "metadata": {},
   "outputs": [],
   "source": [
    "import os\n",
    "from collections import Counter\n",
    "import torch\n",
    "import time\n",
    "import random\n",
    "from matplotlib import pyplot as plt\n",
    "import numpy as np\n",
    "from torch import nn\n",
    "from torch.utils.data import Dataset\n",
    "from sklearn.model_selection import train_test_split\n",
    "from torch_geometric.data import Data, DataLoader\n",
    "from torch_geometric.nn import GCNConv, global_mean_pool\n",
    "from abc import ABC, abstractmethod\n",
    "from typing import Set, List, Tuple\n",
    "from graph_loader import load_graphs\n",
    "from graph import Graph\n",
    "from part import Part\n",
    "from node import Node\n",
    "from typing import Dict, List, Set, Tuple, Union\n"
   ]
  },
  {
   "cell_type": "code",
   "execution_count": 2,
   "metadata": {},
   "outputs": [
    {
     "name": "stdout",
     "output_type": "stream",
     "text": [
      "mps\n"
     ]
    },
    {
     "name": "stderr",
     "output_type": "stream",
     "text": [
      "/var/folders/42/x47cnz7x2v98xvk5lhdybbnm0000gn/T/ipykernel_61522/3632339911.py:2: UserWarning: 'has_mps' is deprecated, please use 'torch.backends.mps.is_built()'\n",
      "  device = torch.device(\"cuda\" if torch.cuda.is_available() else \"mps\" if torch.has_mps else \"cpu\")\n"
     ]
    }
   ],
   "source": [
    "# MPS for Metal acceleration for Mac\n",
    "device = torch.device(\"cuda\" if torch.cuda.is_available() else \"mps\" if torch.has_mps else \"cpu\") \n",
    "SEED = 0\n",
    "random.seed(SEED)\n",
    "# setgrad = lambda g, *ms: [setattr(p,'requires_grad', g) for m in ms for p in m.parameters() ]  \n",
    "\n",
    "print(device)"
   ]
  },
  {
   "cell_type": "markdown",
   "metadata": {},
   "source": [
    "## Custom Dataset\n",
    "Wir erstellen ein custom Dataset."
   ]
  },
  {
   "cell_type": "code",
   "execution_count": 3,
   "metadata": {},
   "outputs": [],
   "source": [
    "class GraphDataset(Dataset):\n",
    "    def __init__(self, file_path: str, train=False, validation=False, test=False, seed=42):\n",
    "        if not os.path.exists(file_path):\n",
    "            raise FileNotFoundError(f\"Dataset file not found at {file_path}\")\n",
    "\n",
    "        self.graphs = load_graphs(file_path)\n",
    "\n",
    "        if sum([train, validation, test]) != 1:\n",
    "            raise ValueError(\"Exactly one of 'train', 'validation', or 'test' must be True.\")\n",
    "\n",
    "        # Split: 70% training, 15% validation, 15% test\n",
    "        train_graphs, test_graphs = train_test_split(self.graphs, test_size=0.3, random_state=seed)\n",
    "        validation_graphs, test_graphs = train_test_split(test_graphs, test_size=0.5, random_state=seed)\n",
    "\n",
    "        if train:\n",
    "            self.graphs = train_graphs\n",
    "        elif validation:\n",
    "            self.graphs = validation_graphs\n",
    "        elif test:\n",
    "            self.graphs = test_graphs\n",
    "\n",
    "        \n",
    "    def __len__(self):\n",
    "        return len(self.graphs)\n",
    "\n",
    "    def __getitem__(self, idx):\n",
    "        # return parts und graphen\n",
    "        return self.graphs[idx].get_parts(), self.graphs[idx]\n",
    "\n"
   ]
  },
  {
   "cell_type": "code",
   "execution_count": 4,
   "metadata": {},
   "outputs": [],
   "source": [
    "training_set = GraphDataset(\"data/graphs.dat\", train = True, seed=SEED)\n",
    "validation_set = GraphDataset(\"data/graphs.dat\", validation = True, seed=SEED)\n",
    "testing_set = GraphDataset(\"data/graphs.dat\", test = True, seed=SEED)"
   ]
  },
  {
   "cell_type": "markdown",
   "metadata": {},
   "source": [
    "Überprüfen, ob die Anzahl der Parts immer größer als 1 ist --> JA"
   ]
  },
  {
   "cell_type": "code",
   "execution_count": 5,
   "metadata": {},
   "outputs": [
    {
     "name": "stdout",
     "output_type": "stream",
     "text": [
      "Number of parts always greater than 1\n"
     ]
    }
   ],
   "source": [
    "for parts, graph in testing_set:\n",
    "    number_of_parts = len(parts)\n",
    "    if number_of_parts == 0:\n",
    "        print(\"No parts found\")\n",
    "        break\n",
    "    elif number_of_parts == 1:\n",
    "        print(\"1 part found\")\n",
    "        break\n",
    "print(\"Number of parts always greater than 1\")"
   ]
  },
  {
   "cell_type": "markdown",
   "metadata": {},
   "source": [
    "## Model: Random prediction"
   ]
  },
  {
   "cell_type": "code",
   "execution_count": 6,
   "metadata": {},
   "outputs": [],
   "source": [
    "from evaluation import MyPredictionModel\n",
    "import random\n",
    "from graph import Graph \n",
    "\n",
    "class RandomGraphPredictionModel(MyPredictionModel):\n",
    "    def predict_graph(self, parts: Set[Part]) -> Graph:\n",
    "        \"\"\"\n",
    "        Predicts a random graph from the given set of parts.\n",
    "        :param parts: Set of Part objects.\n",
    "        :return: A randomly generated Graph object.\n",
    "        \"\"\"\n",
    "\n",
    "        # create empty graph\n",
    "        graph = Graph()\n",
    "\n",
    "        # shuffle parts\n",
    "        parts_random = list(parts)\n",
    "        random.shuffle(parts_random)\n",
    "\n",
    "        if len(parts_random) == 0:\n",
    "            return graph\n",
    "        elif len(parts_random) == 1:\n",
    "            # TODO: implement case of only one part/node without edges\n",
    "            return graph\n",
    "        else: \n",
    "            # more than 1 part. Initialize graph\n",
    "            part_1 = parts_random[0]\n",
    "            part_2 = parts_random[1]\n",
    "            graph.add_undirected_edge(part_1, part_2)\n",
    "            # remove first two parts from list\n",
    "            parts_random = parts_random[2:]\n",
    "        # more than 1 part --> add edges\n",
    "\n",
    "        # add edges to graph\n",
    "        for part in parts_random:\n",
    "            # get random existing part from graph and connect it to the current part\n",
    "            random_part = random.choice(list(graph.get_parts()))\n",
    "            graph.add_undirected_edge(part, random_part)\n",
    "\n",
    "        return graph"
   ]
  },
  {
   "cell_type": "markdown",
   "metadata": {},
   "source": [
    "## Evaluation"
   ]
  },
  {
   "cell_type": "code",
   "execution_count": 7,
   "metadata": {},
   "outputs": [
    {
     "data": {
      "text/plain": [
       "1674"
      ]
     },
     "execution_count": 7,
     "metadata": {},
     "output_type": "execute_result"
    }
   ],
   "source": [
    "testing_list = []\n",
    "for parts, graph in testing_set: \n",
    "    tuple = (parts, graph)\n",
    "    testing_list.append(tuple)\n",
    "\n",
    "len(testing_list)"
   ]
  },
  {
   "cell_type": "code",
   "execution_count": 8,
   "metadata": {},
   "outputs": [
    {
     "name": "stdout",
     "output_type": "stream",
     "text": [
      "Accuracy of RandomGraphPredictionModel:  70.71368108713263\n"
     ]
    }
   ],
   "source": [
    "from evaluation import evaluate\n",
    "\n",
    "random_graph_builder = RandomGraphPredictionModel()\n",
    "accuracy = evaluate(random_graph_builder, testing_list)\n",
    "print(\"Accuracy of RandomGraphPredictionModel: \", accuracy)\n"
   ]
  }
 ],
 "metadata": {
  "kernelspec": {
   "display_name": "ai-project",
   "language": "python",
   "name": "python3"
  },
  "language_info": {
   "codemirror_mode": {
    "name": "ipython",
    "version": 3
   },
   "file_extension": ".py",
   "mimetype": "text/x-python",
   "name": "python",
   "nbconvert_exporter": "python",
   "pygments_lexer": "ipython3",
   "version": "3.8.18"
  }
 },
 "nbformat": 4,
 "nbformat_minor": 2
}
